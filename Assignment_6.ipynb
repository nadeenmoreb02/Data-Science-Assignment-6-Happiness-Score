{
  "nbformat": 4,
  "nbformat_minor": 0,
  "metadata": {
    "colab": {
      "provenance": []
    },
    "kernelspec": {
      "name": "python3",
      "display_name": "Python 3"
    },
    "language_info": {
      "name": "python"
    }
  },
  "cells": [
    {
      "cell_type": "markdown",
      "source": [
        "\n",
        "#### **Assignment 6 : Visualization 🌏**\n",
        "\n",
        "#### **Student Name:** Nadeen Moreb\n",
        "\n",
        "#### **Student ID:** 1203437"
      ],
      "metadata": {
        "id": "SiriX5WN3zfm"
      }
    },
    {
      "cell_type": "markdown",
      "source": [
        "# Happiness Score 🙁😐🙂"
      ],
      "metadata": {
        "id": "FljyNx2RD9op"
      }
    },
    {
      "cell_type": "markdown",
      "source": [
        "**Import Important libraries**\n",
        "\n",
        "Import Important libraries I will use in code including visualization libraries like seaborn ana matplot"
      ],
      "metadata": {
        "id": "2LlUZKq7P1vQ"
      }
    },
    {
      "cell_type": "code",
      "source": [
        "import numpy as np\n",
        "import pandas as pd\n",
        "import seaborn as sns\n",
        "import matplotlib.pyplot as plt\n",
        "\n",
        "import os\n",
        "directory_path = '/content'\n",
        "\n",
        "for dirname, _, filenames in os.walk(directory_path):\n",
        "    for filename in filenames:\n",
        "        print(os.path.join(dirname, filename))\n",
        "\n"
      ],
      "metadata": {
        "colab": {
          "base_uri": "https://localhost:8080/"
        },
        "id": "v_08aooI31ws",
        "outputId": "2f728350-8d3b-4a92-c687-bd56dff03d0e"
      },
      "execution_count": 114,
      "outputs": [
        {
          "output_type": "stream",
          "name": "stdout",
          "text": [
            "/content/2015.csv\n",
            "/content/2016.csv\n",
            "/content/2018.csv\n",
            "/content/2019.csv\n",
            "/content/2017.csv\n",
            "/content/.config/config_sentinel\n",
            "/content/.config/.last_opt_in_prompt.yaml\n",
            "/content/.config/default_configs.db\n",
            "/content/.config/gce\n",
            "/content/.config/.last_update_check.json\n",
            "/content/.config/.last_survey_prompt.yaml\n",
            "/content/.config/active_config\n",
            "/content/.config/configurations/config_default\n",
            "/content/.config/logs/2024.05.24/13.22.24.917703.log\n",
            "/content/.config/logs/2024.05.24/13.21.40.001279.log\n",
            "/content/.config/logs/2024.05.24/13.22.15.882652.log\n",
            "/content/.config/logs/2024.05.24/13.22.04.743870.log\n",
            "/content/.config/logs/2024.05.24/13.22.36.629217.log\n",
            "/content/.config/logs/2024.05.24/13.22.35.988962.log\n",
            "/content/sample_data/anscombe.json\n",
            "/content/sample_data/README.md\n",
            "/content/sample_data/california_housing_train.csv\n",
            "/content/sample_data/mnist_test.csv\n",
            "/content/sample_data/california_housing_test.csv\n",
            "/content/sample_data/mnist_train_small.csv\n"
          ]
        }
      ]
    },
    {
      "cell_type": "markdown",
      "source": [
        "**Read Data**:\n",
        "\n",
        "reading data files that contain happiness scores of countries and regions over the years 2015, 2016, 2017, 2018, 2019 and creating dataframes out of them to combine them later in one dataframe"
      ],
      "metadata": {
        "id": "zDFUpyBK4jbP"
      }
    },
    {
      "cell_type": "code",
      "source": [
        "df_2015 = pd.read_csv(\"/content/2015.csv\")\n",
        "df_2016 = pd.read_csv(\"/content/2016.csv\")\n",
        "df_2017 = pd.read_csv(\"/content/2017.csv\")\n",
        "df_2018 = pd.read_csv(\"/content/2018.csv\")\n",
        "df_2019 = pd.read_csv(\"/content/2019.csv\")"
      ],
      "metadata": {
        "id": "O699GgK_4jp2"
      },
      "execution_count": 115,
      "outputs": []
    },
    {
      "cell_type": "markdown",
      "source": [
        "**consistent column names (names unification)**\n",
        "\n",
        "here I renamed column names due to some naming differences for same columns in order to combine the data files correctly. where I firstly printed the columns and compared them, then I changed the names mannually accordingly"
      ],
      "metadata": {
        "id": "IYsE9lVORMx3"
      }
    },
    {
      "cell_type": "code",
      "source": [
        "print(list(df_2015.columns))\n",
        "print(list(df_2016.columns))\n",
        "print(list(df_2017.columns))\n",
        "print(list(df_2018.columns))\n",
        "print(list(df_2019.columns))"
      ],
      "metadata": {
        "colab": {
          "base_uri": "https://localhost:8080/"
        },
        "id": "3dUz5cuVMotb",
        "outputId": "1ec733e6-572d-498f-de23-48f86de551b6"
      },
      "execution_count": 116,
      "outputs": [
        {
          "output_type": "stream",
          "name": "stdout",
          "text": [
            "['Country', 'Region', 'Happiness Rank', 'Happiness Score', 'Standard Error', 'Economy (GDP per Capita)', 'Family', 'Health (Life Expectancy)', 'Freedom', 'Trust (Government Corruption)', 'Generosity', 'Dystopia Residual']\n",
            "['Country', 'Region', 'Happiness Rank', 'Happiness Score', 'Lower Confidence Interval', 'Upper Confidence Interval', 'Economy (GDP per Capita)', 'Family', 'Health (Life Expectancy)', 'Freedom', 'Trust (Government Corruption)', 'Generosity', 'Dystopia Residual']\n",
            "['Country', 'Happiness.Rank', 'Happiness.Score', 'Whisker.high', 'Whisker.low', 'Economy..GDP.per.Capita.', 'Family', 'Health..Life.Expectancy.', 'Freedom', 'Generosity', 'Trust..Government.Corruption.', 'Dystopia.Residual']\n",
            "['Overall rank', 'Country or region', 'Score', 'GDP per capita', 'Social support', 'Healthy life expectancy', 'Freedom to make life choices', 'Generosity', 'Perceptions of corruption']\n",
            "['Overall rank', 'Country or region', 'Score', 'GDP per capita', 'Social support', 'Healthy life expectancy', 'Freedom to make life choices', 'Generosity', 'Perceptions of corruption']\n"
          ]
        }
      ]
    },
    {
      "cell_type": "code",
      "source": [
        "df_2015.rename(columns={\n",
        "    'Happiness Rank': 'Overall Rank',\n",
        "    'Happiness Score': 'Score',\n",
        "    'Standard Error': 'Standard Error',\n",
        "    'Economy (GDP per Capita)': 'GDP per capita',\n",
        "    'Health (Life Expectancy)': 'Healthy life expectancy',\n",
        "    'Trust (Government Corruption)': 'Perceptions of corruption'\n",
        "}, inplace=True)\n",
        "\n",
        "df_2016.rename(columns={\n",
        "    'Happiness Rank': 'Overall Rank',\n",
        "    'Happiness Score': 'Score',\n",
        "    'Lower Confidence Interval': 'Lower Confidence Interval',\n",
        "    'Upper Confidence Interval': 'Upper Confidence Interval',\n",
        "    'Economy (GDP per Capita)': 'GDP per capita',\n",
        "    'Health (Life Expectancy)': 'Healthy life expectancy',\n",
        "    'Trust (Government Corruption)': 'Perceptions of corruption'\n",
        "}, inplace=True)\n",
        "\n",
        "df_2017.rename(columns={\n",
        "    'Happiness.Rank': 'Overall Rank',\n",
        "    'Happiness.Score': 'Score',\n",
        "    'Economy..GDP.per.Capita.': 'GDP per capita',\n",
        "    'Health..Life.Expectancy.': 'Healthy life expectancy',\n",
        "    'Trust..Government.Corruption.': 'Perceptions of corruption',\n",
        "    'Dystopia.Residual': 'Dystopia Residual'\n",
        "}, inplace=True)\n",
        "\n",
        "df_2018.rename(columns={\n",
        "    'Country or region' : 'Country',\n",
        "    'Overall rank': 'Overall Rank',\n",
        "    'Score': 'Score',\n",
        "    'GDP per capita': 'GDP per capita',\n",
        "    'Social support': 'Family',\n",
        "    'Healthy life expectancy': 'Healthy life expectancy',\n",
        "    'Freedom to make life choices': 'Freedom',\n",
        "    'Perceptions of corruption': 'Perceptions of corruption'\n",
        "}, inplace=True)\n",
        "\n",
        "df_2019.rename(columns={\n",
        "    'Country or region' : 'Country',\n",
        "    'Overall rank': 'Overall Rank',\n",
        "    'Score': 'Score',\n",
        "    'GDP per capita': 'GDP per capita',\n",
        "    'Social support': 'Family',\n",
        "    'Healthy life expectancy': 'Healthy life expectancy',\n",
        "    'Freedom to make life choices': 'Freedom',\n",
        "    'Perceptions of corruption': 'Perceptions of corruption'\n",
        "}, inplace=True)"
      ],
      "metadata": {
        "id": "DNBiIPTLPP3p"
      },
      "execution_count": 117,
      "outputs": []
    },
    {
      "cell_type": "markdown",
      "source": [
        "**Year Column for each data frame indicating the year these scores were taken**:\n",
        "\n",
        "I added a column indicating the year this score and data was collected and estimated"
      ],
      "metadata": {
        "id": "jc6uGFuKhq2K"
      }
    },
    {
      "cell_type": "code",
      "source": [
        "df_2015['Year'] = 2015\n",
        "df_2016['Year'] = 2016\n",
        "df_2017['Year'] = 2017\n",
        "df_2018['Year'] = 2018\n",
        "df_2019['Year'] = 2019"
      ],
      "metadata": {
        "id": "aFE-M1iIhrvG"
      },
      "execution_count": 118,
      "outputs": []
    },
    {
      "cell_type": "markdown",
      "source": [
        "**Here lets take a look at each of the dataframes as well as their shape**"
      ],
      "metadata": {
        "id": "B_KG_92daess"
      }
    },
    {
      "cell_type": "code",
      "source": [
        "print(df_2015.shape)\n",
        "display(df_2015.head())\n",
        "\n",
        "print(df_2016.shape)\n",
        "display(df_2016.head())\n",
        "\n",
        "print(df_2016.shape)\n",
        "display(df_2016.head())\n",
        "\n",
        "print(df_2017.shape)\n",
        "display(df_2017.head())\n",
        "\n",
        "print(df_2018.shape)\n",
        "display(df_2018.head())\n",
        "\n",
        "print(df_2018.shape)\n",
        "display(df_2019.head())\n"
      ],
      "metadata": {
        "colab": {
          "base_uri": "https://localhost:8080/",
          "height": 1000
        },
        "id": "tUWysAAxf_tv",
        "outputId": "65376c10-e60c-4616-9aef-3d5c1bf2b992"
      },
      "execution_count": 119,
      "outputs": [
        {
          "output_type": "stream",
          "name": "stdout",
          "text": [
            "(158, 13)\n"
          ]
        },
        {
          "output_type": "display_data",
          "data": {
            "text/plain": [
              "       Country          Region  Overall Rank  Score  Standard Error  \\\n",
              "0  Switzerland  Western Europe             1  7.587         0.03411   \n",
              "1      Iceland  Western Europe             2  7.561         0.04884   \n",
              "2      Denmark  Western Europe             3  7.527         0.03328   \n",
              "3       Norway  Western Europe             4  7.522         0.03880   \n",
              "4       Canada   North America             5  7.427         0.03553   \n",
              "\n",
              "   GDP per capita   Family  Healthy life expectancy  Freedom  \\\n",
              "0         1.39651  1.34951                  0.94143  0.66557   \n",
              "1         1.30232  1.40223                  0.94784  0.62877   \n",
              "2         1.32548  1.36058                  0.87464  0.64938   \n",
              "3         1.45900  1.33095                  0.88521  0.66973   \n",
              "4         1.32629  1.32261                  0.90563  0.63297   \n",
              "\n",
              "   Perceptions of corruption  Generosity  Dystopia Residual  Year  \n",
              "0                    0.41978     0.29678            2.51738  2015  \n",
              "1                    0.14145     0.43630            2.70201  2015  \n",
              "2                    0.48357     0.34139            2.49204  2015  \n",
              "3                    0.36503     0.34699            2.46531  2015  \n",
              "4                    0.32957     0.45811            2.45176  2015  "
            ],
            "text/html": [
              "\n",
              "  <div id=\"df-7450005c-e48a-451c-87ee-351ec9205721\" class=\"colab-df-container\">\n",
              "    <div>\n",
              "<style scoped>\n",
              "    .dataframe tbody tr th:only-of-type {\n",
              "        vertical-align: middle;\n",
              "    }\n",
              "\n",
              "    .dataframe tbody tr th {\n",
              "        vertical-align: top;\n",
              "    }\n",
              "\n",
              "    .dataframe thead th {\n",
              "        text-align: right;\n",
              "    }\n",
              "</style>\n",
              "<table border=\"1\" class=\"dataframe\">\n",
              "  <thead>\n",
              "    <tr style=\"text-align: right;\">\n",
              "      <th></th>\n",
              "      <th>Country</th>\n",
              "      <th>Region</th>\n",
              "      <th>Overall Rank</th>\n",
              "      <th>Score</th>\n",
              "      <th>Standard Error</th>\n",
              "      <th>GDP per capita</th>\n",
              "      <th>Family</th>\n",
              "      <th>Healthy life expectancy</th>\n",
              "      <th>Freedom</th>\n",
              "      <th>Perceptions of corruption</th>\n",
              "      <th>Generosity</th>\n",
              "      <th>Dystopia Residual</th>\n",
              "      <th>Year</th>\n",
              "    </tr>\n",
              "  </thead>\n",
              "  <tbody>\n",
              "    <tr>\n",
              "      <th>0</th>\n",
              "      <td>Switzerland</td>\n",
              "      <td>Western Europe</td>\n",
              "      <td>1</td>\n",
              "      <td>7.587</td>\n",
              "      <td>0.03411</td>\n",
              "      <td>1.39651</td>\n",
              "      <td>1.34951</td>\n",
              "      <td>0.94143</td>\n",
              "      <td>0.66557</td>\n",
              "      <td>0.41978</td>\n",
              "      <td>0.29678</td>\n",
              "      <td>2.51738</td>\n",
              "      <td>2015</td>\n",
              "    </tr>\n",
              "    <tr>\n",
              "      <th>1</th>\n",
              "      <td>Iceland</td>\n",
              "      <td>Western Europe</td>\n",
              "      <td>2</td>\n",
              "      <td>7.561</td>\n",
              "      <td>0.04884</td>\n",
              "      <td>1.30232</td>\n",
              "      <td>1.40223</td>\n",
              "      <td>0.94784</td>\n",
              "      <td>0.62877</td>\n",
              "      <td>0.14145</td>\n",
              "      <td>0.43630</td>\n",
              "      <td>2.70201</td>\n",
              "      <td>2015</td>\n",
              "    </tr>\n",
              "    <tr>\n",
              "      <th>2</th>\n",
              "      <td>Denmark</td>\n",
              "      <td>Western Europe</td>\n",
              "      <td>3</td>\n",
              "      <td>7.527</td>\n",
              "      <td>0.03328</td>\n",
              "      <td>1.32548</td>\n",
              "      <td>1.36058</td>\n",
              "      <td>0.87464</td>\n",
              "      <td>0.64938</td>\n",
              "      <td>0.48357</td>\n",
              "      <td>0.34139</td>\n",
              "      <td>2.49204</td>\n",
              "      <td>2015</td>\n",
              "    </tr>\n",
              "    <tr>\n",
              "      <th>3</th>\n",
              "      <td>Norway</td>\n",
              "      <td>Western Europe</td>\n",
              "      <td>4</td>\n",
              "      <td>7.522</td>\n",
              "      <td>0.03880</td>\n",
              "      <td>1.45900</td>\n",
              "      <td>1.33095</td>\n",
              "      <td>0.88521</td>\n",
              "      <td>0.66973</td>\n",
              "      <td>0.36503</td>\n",
              "      <td>0.34699</td>\n",
              "      <td>2.46531</td>\n",
              "      <td>2015</td>\n",
              "    </tr>\n",
              "    <tr>\n",
              "      <th>4</th>\n",
              "      <td>Canada</td>\n",
              "      <td>North America</td>\n",
              "      <td>5</td>\n",
              "      <td>7.427</td>\n",
              "      <td>0.03553</td>\n",
              "      <td>1.32629</td>\n",
              "      <td>1.32261</td>\n",
              "      <td>0.90563</td>\n",
              "      <td>0.63297</td>\n",
              "      <td>0.32957</td>\n",
              "      <td>0.45811</td>\n",
              "      <td>2.45176</td>\n",
              "      <td>2015</td>\n",
              "    </tr>\n",
              "  </tbody>\n",
              "</table>\n",
              "</div>\n",
              "    <div class=\"colab-df-buttons\">\n",
              "\n",
              "  <div class=\"colab-df-container\">\n",
              "    <button class=\"colab-df-convert\" onclick=\"convertToInteractive('df-7450005c-e48a-451c-87ee-351ec9205721')\"\n",
              "            title=\"Convert this dataframe to an interactive table.\"\n",
              "            style=\"display:none;\">\n",
              "\n",
              "  <svg xmlns=\"http://www.w3.org/2000/svg\" height=\"24px\" viewBox=\"0 -960 960 960\">\n",
              "    <path d=\"M120-120v-720h720v720H120Zm60-500h600v-160H180v160Zm220 220h160v-160H400v160Zm0 220h160v-160H400v160ZM180-400h160v-160H180v160Zm440 0h160v-160H620v160ZM180-180h160v-160H180v160Zm440 0h160v-160H620v160Z\"/>\n",
              "  </svg>\n",
              "    </button>\n",
              "\n",
              "  <style>\n",
              "    .colab-df-container {\n",
              "      display:flex;\n",
              "      gap: 12px;\n",
              "    }\n",
              "\n",
              "    .colab-df-convert {\n",
              "      background-color: #E8F0FE;\n",
              "      border: none;\n",
              "      border-radius: 50%;\n",
              "      cursor: pointer;\n",
              "      display: none;\n",
              "      fill: #1967D2;\n",
              "      height: 32px;\n",
              "      padding: 0 0 0 0;\n",
              "      width: 32px;\n",
              "    }\n",
              "\n",
              "    .colab-df-convert:hover {\n",
              "      background-color: #E2EBFA;\n",
              "      box-shadow: 0px 1px 2px rgba(60, 64, 67, 0.3), 0px 1px 3px 1px rgba(60, 64, 67, 0.15);\n",
              "      fill: #174EA6;\n",
              "    }\n",
              "\n",
              "    .colab-df-buttons div {\n",
              "      margin-bottom: 4px;\n",
              "    }\n",
              "\n",
              "    [theme=dark] .colab-df-convert {\n",
              "      background-color: #3B4455;\n",
              "      fill: #D2E3FC;\n",
              "    }\n",
              "\n",
              "    [theme=dark] .colab-df-convert:hover {\n",
              "      background-color: #434B5C;\n",
              "      box-shadow: 0px 1px 3px 1px rgba(0, 0, 0, 0.15);\n",
              "      filter: drop-shadow(0px 1px 2px rgba(0, 0, 0, 0.3));\n",
              "      fill: #FFFFFF;\n",
              "    }\n",
              "  </style>\n",
              "\n",
              "    <script>\n",
              "      const buttonEl =\n",
              "        document.querySelector('#df-7450005c-e48a-451c-87ee-351ec9205721 button.colab-df-convert');\n",
              "      buttonEl.style.display =\n",
              "        google.colab.kernel.accessAllowed ? 'block' : 'none';\n",
              "\n",
              "      async function convertToInteractive(key) {\n",
              "        const element = document.querySelector('#df-7450005c-e48a-451c-87ee-351ec9205721');\n",
              "        const dataTable =\n",
              "          await google.colab.kernel.invokeFunction('convertToInteractive',\n",
              "                                                    [key], {});\n",
              "        if (!dataTable) return;\n",
              "\n",
              "        const docLinkHtml = 'Like what you see? Visit the ' +\n",
              "          '<a target=\"_blank\" href=https://colab.research.google.com/notebooks/data_table.ipynb>data table notebook</a>'\n",
              "          + ' to learn more about interactive tables.';\n",
              "        element.innerHTML = '';\n",
              "        dataTable['output_type'] = 'display_data';\n",
              "        await google.colab.output.renderOutput(dataTable, element);\n",
              "        const docLink = document.createElement('div');\n",
              "        docLink.innerHTML = docLinkHtml;\n",
              "        element.appendChild(docLink);\n",
              "      }\n",
              "    </script>\n",
              "  </div>\n",
              "\n",
              "\n",
              "<div id=\"df-8df1f310-2a8b-4990-87a0-deec84318c73\">\n",
              "  <button class=\"colab-df-quickchart\" onclick=\"quickchart('df-8df1f310-2a8b-4990-87a0-deec84318c73')\"\n",
              "            title=\"Suggest charts\"\n",
              "            style=\"display:none;\">\n",
              "\n",
              "<svg xmlns=\"http://www.w3.org/2000/svg\" height=\"24px\"viewBox=\"0 0 24 24\"\n",
              "     width=\"24px\">\n",
              "    <g>\n",
              "        <path d=\"M19 3H5c-1.1 0-2 .9-2 2v14c0 1.1.9 2 2 2h14c1.1 0 2-.9 2-2V5c0-1.1-.9-2-2-2zM9 17H7v-7h2v7zm4 0h-2V7h2v10zm4 0h-2v-4h2v4z\"/>\n",
              "    </g>\n",
              "</svg>\n",
              "  </button>\n",
              "\n",
              "<style>\n",
              "  .colab-df-quickchart {\n",
              "      --bg-color: #E8F0FE;\n",
              "      --fill-color: #1967D2;\n",
              "      --hover-bg-color: #E2EBFA;\n",
              "      --hover-fill-color: #174EA6;\n",
              "      --disabled-fill-color: #AAA;\n",
              "      --disabled-bg-color: #DDD;\n",
              "  }\n",
              "\n",
              "  [theme=dark] .colab-df-quickchart {\n",
              "      --bg-color: #3B4455;\n",
              "      --fill-color: #D2E3FC;\n",
              "      --hover-bg-color: #434B5C;\n",
              "      --hover-fill-color: #FFFFFF;\n",
              "      --disabled-bg-color: #3B4455;\n",
              "      --disabled-fill-color: #666;\n",
              "  }\n",
              "\n",
              "  .colab-df-quickchart {\n",
              "    background-color: var(--bg-color);\n",
              "    border: none;\n",
              "    border-radius: 50%;\n",
              "    cursor: pointer;\n",
              "    display: none;\n",
              "    fill: var(--fill-color);\n",
              "    height: 32px;\n",
              "    padding: 0;\n",
              "    width: 32px;\n",
              "  }\n",
              "\n",
              "  .colab-df-quickchart:hover {\n",
              "    background-color: var(--hover-bg-color);\n",
              "    box-shadow: 0 1px 2px rgba(60, 64, 67, 0.3), 0 1px 3px 1px rgba(60, 64, 67, 0.15);\n",
              "    fill: var(--button-hover-fill-color);\n",
              "  }\n",
              "\n",
              "  .colab-df-quickchart-complete:disabled,\n",
              "  .colab-df-quickchart-complete:disabled:hover {\n",
              "    background-color: var(--disabled-bg-color);\n",
              "    fill: var(--disabled-fill-color);\n",
              "    box-shadow: none;\n",
              "  }\n",
              "\n",
              "  .colab-df-spinner {\n",
              "    border: 2px solid var(--fill-color);\n",
              "    border-color: transparent;\n",
              "    border-bottom-color: var(--fill-color);\n",
              "    animation:\n",
              "      spin 1s steps(1) infinite;\n",
              "  }\n",
              "\n",
              "  @keyframes spin {\n",
              "    0% {\n",
              "      border-color: transparent;\n",
              "      border-bottom-color: var(--fill-color);\n",
              "      border-left-color: var(--fill-color);\n",
              "    }\n",
              "    20% {\n",
              "      border-color: transparent;\n",
              "      border-left-color: var(--fill-color);\n",
              "      border-top-color: var(--fill-color);\n",
              "    }\n",
              "    30% {\n",
              "      border-color: transparent;\n",
              "      border-left-color: var(--fill-color);\n",
              "      border-top-color: var(--fill-color);\n",
              "      border-right-color: var(--fill-color);\n",
              "    }\n",
              "    40% {\n",
              "      border-color: transparent;\n",
              "      border-right-color: var(--fill-color);\n",
              "      border-top-color: var(--fill-color);\n",
              "    }\n",
              "    60% {\n",
              "      border-color: transparent;\n",
              "      border-right-color: var(--fill-color);\n",
              "    }\n",
              "    80% {\n",
              "      border-color: transparent;\n",
              "      border-right-color: var(--fill-color);\n",
              "      border-bottom-color: var(--fill-color);\n",
              "    }\n",
              "    90% {\n",
              "      border-color: transparent;\n",
              "      border-bottom-color: var(--fill-color);\n",
              "    }\n",
              "  }\n",
              "</style>\n",
              "\n",
              "  <script>\n",
              "    async function quickchart(key) {\n",
              "      const quickchartButtonEl =\n",
              "        document.querySelector('#' + key + ' button');\n",
              "      quickchartButtonEl.disabled = true;  // To prevent multiple clicks.\n",
              "      quickchartButtonEl.classList.add('colab-df-spinner');\n",
              "      try {\n",
              "        const charts = await google.colab.kernel.invokeFunction(\n",
              "            'suggestCharts', [key], {});\n",
              "      } catch (error) {\n",
              "        console.error('Error during call to suggestCharts:', error);\n",
              "      }\n",
              "      quickchartButtonEl.classList.remove('colab-df-spinner');\n",
              "      quickchartButtonEl.classList.add('colab-df-quickchart-complete');\n",
              "    }\n",
              "    (() => {\n",
              "      let quickchartButtonEl =\n",
              "        document.querySelector('#df-8df1f310-2a8b-4990-87a0-deec84318c73 button');\n",
              "      quickchartButtonEl.style.display =\n",
              "        google.colab.kernel.accessAllowed ? 'block' : 'none';\n",
              "    })();\n",
              "  </script>\n",
              "</div>\n",
              "\n",
              "    </div>\n",
              "  </div>\n"
            ],
            "application/vnd.google.colaboratory.intrinsic+json": {
              "type": "dataframe",
              "summary": "{\n  \"name\": \"display(df_2019\",\n  \"rows\": 5,\n  \"fields\": [\n    {\n      \"column\": \"Country\",\n      \"properties\": {\n        \"dtype\": \"string\",\n        \"num_unique_values\": 5,\n        \"samples\": [\n          \"Iceland\",\n          \"Canada\",\n          \"Denmark\"\n        ],\n        \"semantic_type\": \"\",\n        \"description\": \"\"\n      }\n    },\n    {\n      \"column\": \"Region\",\n      \"properties\": {\n        \"dtype\": \"category\",\n        \"num_unique_values\": 2,\n        \"samples\": [\n          \"North America\",\n          \"Western Europe\"\n        ],\n        \"semantic_type\": \"\",\n        \"description\": \"\"\n      }\n    },\n    {\n      \"column\": \"Overall Rank\",\n      \"properties\": {\n        \"dtype\": \"number\",\n        \"std\": 1,\n        \"min\": 1,\n        \"max\": 5,\n        \"num_unique_values\": 5,\n        \"samples\": [\n          2,\n          5\n        ],\n        \"semantic_type\": \"\",\n        \"description\": \"\"\n      }\n    },\n    {\n      \"column\": \"Score\",\n      \"properties\": {\n        \"dtype\": \"number\",\n        \"std\": 0.06073878497303029,\n        \"min\": 7.427,\n        \"max\": 7.587,\n        \"num_unique_values\": 5,\n        \"samples\": [\n          7.561,\n          7.427\n        ],\n        \"semantic_type\": \"\",\n        \"description\": \"\"\n      }\n    },\n    {\n      \"column\": \"Standard Error\",\n      \"properties\": {\n        \"dtype\": \"number\",\n        \"std\": 0.006355986941459211,\n        \"min\": 0.03328,\n        \"max\": 0.04884,\n        \"num_unique_values\": 5,\n        \"samples\": [\n          0.04884,\n          0.03553\n        ],\n        \"semantic_type\": \"\",\n        \"description\": \"\"\n      }\n    },\n    {\n      \"column\": \"GDP per capita\",\n      \"properties\": {\n        \"dtype\": \"number\",\n        \"std\": 0.06475053088585456,\n        \"min\": 1.30232,\n        \"max\": 1.459,\n        \"num_unique_values\": 5,\n        \"samples\": [\n          1.30232,\n          1.32629\n        ],\n        \"semantic_type\": \"\",\n        \"description\": \"\"\n      }\n    },\n    {\n      \"column\": \"Family\",\n      \"properties\": {\n        \"dtype\": \"number\",\n        \"std\": 0.03123631348286798,\n        \"min\": 1.32261,\n        \"max\": 1.40223,\n        \"num_unique_values\": 5,\n        \"samples\": [\n          1.40223,\n          1.32261\n        ],\n        \"semantic_type\": \"\",\n        \"description\": \"\"\n      }\n    },\n    {\n      \"column\": \"Healthy life expectancy\",\n      \"properties\": {\n        \"dtype\": \"number\",\n        \"std\": 0.032784022785497205,\n        \"min\": 0.87464,\n        \"max\": 0.94784,\n        \"num_unique_values\": 5,\n        \"samples\": [\n          0.94784,\n          0.90563\n        ],\n        \"semantic_type\": \"\",\n        \"description\": \"\"\n      }\n    },\n    {\n      \"column\": \"Freedom\",\n      \"properties\": {\n        \"dtype\": \"number\",\n        \"std\": 0.018508462388864173,\n        \"min\": 0.62877,\n        \"max\": 0.66973,\n        \"num_unique_values\": 5,\n        \"samples\": [\n          0.62877,\n          0.63297\n        ],\n        \"semantic_type\": \"\",\n        \"description\": \"\"\n      }\n    },\n    {\n      \"column\": \"Perceptions of corruption\",\n      \"properties\": {\n        \"dtype\": \"number\",\n        \"std\": 0.1292517984400991,\n        \"min\": 0.14145,\n        \"max\": 0.48357,\n        \"num_unique_values\": 5,\n        \"samples\": [\n          0.14145,\n          0.32957\n        ],\n        \"semantic_type\": \"\",\n        \"description\": \"\"\n      }\n    },\n    {\n      \"column\": \"Generosity\",\n      \"properties\": {\n        \"dtype\": \"number\",\n        \"std\": 0.06836180534479762,\n        \"min\": 0.29678,\n        \"max\": 0.45811,\n        \"num_unique_values\": 5,\n        \"samples\": [\n          0.4363,\n          0.45811\n        ],\n        \"semantic_type\": \"\",\n        \"description\": \"\"\n      }\n    },\n    {\n      \"column\": \"Dystopia Residual\",\n      \"properties\": {\n        \"dtype\": \"number\",\n        \"std\": 0.10173680479551142,\n        \"min\": 2.45176,\n        \"max\": 2.70201,\n        \"num_unique_values\": 5,\n        \"samples\": [\n          2.70201,\n          2.45176\n        ],\n        \"semantic_type\": \"\",\n        \"description\": \"\"\n      }\n    },\n    {\n      \"column\": \"Year\",\n      \"properties\": {\n        \"dtype\": \"number\",\n        \"std\": 0,\n        \"min\": 2015,\n        \"max\": 2015,\n        \"num_unique_values\": 1,\n        \"samples\": [\n          2015\n        ],\n        \"semantic_type\": \"\",\n        \"description\": \"\"\n      }\n    }\n  ]\n}"
            }
          },
          "metadata": {}
        },
        {
          "output_type": "stream",
          "name": "stdout",
          "text": [
            "(157, 14)\n"
          ]
        },
        {
          "output_type": "display_data",
          "data": {
            "text/plain": [
              "       Country          Region  Overall Rank  Score  \\\n",
              "0      Denmark  Western Europe             1  7.526   \n",
              "1  Switzerland  Western Europe             2  7.509   \n",
              "2      Iceland  Western Europe             3  7.501   \n",
              "3       Norway  Western Europe             4  7.498   \n",
              "4      Finland  Western Europe             5  7.413   \n",
              "\n",
              "   Lower Confidence Interval  Upper Confidence Interval  GDP per capita  \\\n",
              "0                      7.460                      7.592         1.44178   \n",
              "1                      7.428                      7.590         1.52733   \n",
              "2                      7.333                      7.669         1.42666   \n",
              "3                      7.421                      7.575         1.57744   \n",
              "4                      7.351                      7.475         1.40598   \n",
              "\n",
              "    Family  Healthy life expectancy  Freedom  Perceptions of corruption  \\\n",
              "0  1.16374                  0.79504  0.57941                    0.44453   \n",
              "1  1.14524                  0.86303  0.58557                    0.41203   \n",
              "2  1.18326                  0.86733  0.56624                    0.14975   \n",
              "3  1.12690                  0.79579  0.59609                    0.35776   \n",
              "4  1.13464                  0.81091  0.57104                    0.41004   \n",
              "\n",
              "   Generosity  Dystopia Residual  Year  \n",
              "0     0.36171            2.73939  2016  \n",
              "1     0.28083            2.69463  2016  \n",
              "2     0.47678            2.83137  2016  \n",
              "3     0.37895            2.66465  2016  \n",
              "4     0.25492            2.82596  2016  "
            ],
            "text/html": [
              "\n",
              "  <div id=\"df-331511c5-79b2-41c5-a941-7fc91c2dccc5\" class=\"colab-df-container\">\n",
              "    <div>\n",
              "<style scoped>\n",
              "    .dataframe tbody tr th:only-of-type {\n",
              "        vertical-align: middle;\n",
              "    }\n",
              "\n",
              "    .dataframe tbody tr th {\n",
              "        vertical-align: top;\n",
              "    }\n",
              "\n",
              "    .dataframe thead th {\n",
              "        text-align: right;\n",
              "    }\n",
              "</style>\n",
              "<table border=\"1\" class=\"dataframe\">\n",
              "  <thead>\n",
              "    <tr style=\"text-align: right;\">\n",
              "      <th></th>\n",
              "      <th>Country</th>\n",
              "      <th>Region</th>\n",
              "      <th>Overall Rank</th>\n",
              "      <th>Score</th>\n",
              "      <th>Lower Confidence Interval</th>\n",
              "      <th>Upper Confidence Interval</th>\n",
              "      <th>GDP per capita</th>\n",
              "      <th>Family</th>\n",
              "      <th>Healthy life expectancy</th>\n",
              "      <th>Freedom</th>\n",
              "      <th>Perceptions of corruption</th>\n",
              "      <th>Generosity</th>\n",
              "      <th>Dystopia Residual</th>\n",
              "      <th>Year</th>\n",
              "    </tr>\n",
              "  </thead>\n",
              "  <tbody>\n",
              "    <tr>\n",
              "      <th>0</th>\n",
              "      <td>Denmark</td>\n",
              "      <td>Western Europe</td>\n",
              "      <td>1</td>\n",
              "      <td>7.526</td>\n",
              "      <td>7.460</td>\n",
              "      <td>7.592</td>\n",
              "      <td>1.44178</td>\n",
              "      <td>1.16374</td>\n",
              "      <td>0.79504</td>\n",
              "      <td>0.57941</td>\n",
              "      <td>0.44453</td>\n",
              "      <td>0.36171</td>\n",
              "      <td>2.73939</td>\n",
              "      <td>2016</td>\n",
              "    </tr>\n",
              "    <tr>\n",
              "      <th>1</th>\n",
              "      <td>Switzerland</td>\n",
              "      <td>Western Europe</td>\n",
              "      <td>2</td>\n",
              "      <td>7.509</td>\n",
              "      <td>7.428</td>\n",
              "      <td>7.590</td>\n",
              "      <td>1.52733</td>\n",
              "      <td>1.14524</td>\n",
              "      <td>0.86303</td>\n",
              "      <td>0.58557</td>\n",
              "      <td>0.41203</td>\n",
              "      <td>0.28083</td>\n",
              "      <td>2.69463</td>\n",
              "      <td>2016</td>\n",
              "    </tr>\n",
              "    <tr>\n",
              "      <th>2</th>\n",
              "      <td>Iceland</td>\n",
              "      <td>Western Europe</td>\n",
              "      <td>3</td>\n",
              "      <td>7.501</td>\n",
              "      <td>7.333</td>\n",
              "      <td>7.669</td>\n",
              "      <td>1.42666</td>\n",
              "      <td>1.18326</td>\n",
              "      <td>0.86733</td>\n",
              "      <td>0.56624</td>\n",
              "      <td>0.14975</td>\n",
              "      <td>0.47678</td>\n",
              "      <td>2.83137</td>\n",
              "      <td>2016</td>\n",
              "    </tr>\n",
              "    <tr>\n",
              "      <th>3</th>\n",
              "      <td>Norway</td>\n",
              "      <td>Western Europe</td>\n",
              "      <td>4</td>\n",
              "      <td>7.498</td>\n",
              "      <td>7.421</td>\n",
              "      <td>7.575</td>\n",
              "      <td>1.57744</td>\n",
              "      <td>1.12690</td>\n",
              "      <td>0.79579</td>\n",
              "      <td>0.59609</td>\n",
              "      <td>0.35776</td>\n",
              "      <td>0.37895</td>\n",
              "      <td>2.66465</td>\n",
              "      <td>2016</td>\n",
              "    </tr>\n",
              "    <tr>\n",
              "      <th>4</th>\n",
              "      <td>Finland</td>\n",
              "      <td>Western Europe</td>\n",
              "      <td>5</td>\n",
              "      <td>7.413</td>\n",
              "      <td>7.351</td>\n",
              "      <td>7.475</td>\n",
              "      <td>1.40598</td>\n",
              "      <td>1.13464</td>\n",
              "      <td>0.81091</td>\n",
              "      <td>0.57104</td>\n",
              "      <td>0.41004</td>\n",
              "      <td>0.25492</td>\n",
              "      <td>2.82596</td>\n",
              "      <td>2016</td>\n",
              "    </tr>\n",
              "  </tbody>\n",
              "</table>\n",
              "</div>\n",
              "    <div class=\"colab-df-buttons\">\n",
              "\n",
              "  <div class=\"colab-df-container\">\n",
              "    <button class=\"colab-df-convert\" onclick=\"convertToInteractive('df-331511c5-79b2-41c5-a941-7fc91c2dccc5')\"\n",
              "            title=\"Convert this dataframe to an interactive table.\"\n",
              "            style=\"display:none;\">\n",
              "\n",
              "  <svg xmlns=\"http://www.w3.org/2000/svg\" height=\"24px\" viewBox=\"0 -960 960 960\">\n",
              "    <path d=\"M120-120v-720h720v720H120Zm60-500h600v-160H180v160Zm220 220h160v-160H400v160Zm0 220h160v-160H400v160ZM180-400h160v-160H180v160Zm440 0h160v-160H620v160ZM180-180h160v-160H180v160Zm440 0h160v-160H620v160Z\"/>\n",
              "  </svg>\n",
              "    </button>\n",
              "\n",
              "  <style>\n",
              "    .colab-df-container {\n",
              "      display:flex;\n",
              "      gap: 12px;\n",
              "    }\n",
              "\n",
              "    .colab-df-convert {\n",
              "      background-color: #E8F0FE;\n",
              "      border: none;\n",
              "      border-radius: 50%;\n",
              "      cursor: pointer;\n",
              "      display: none;\n",
              "      fill: #1967D2;\n",
              "      height: 32px;\n",
              "      padding: 0 0 0 0;\n",
              "      width: 32px;\n",
              "    }\n",
              "\n",
              "    .colab-df-convert:hover {\n",
              "      background-color: #E2EBFA;\n",
              "      box-shadow: 0px 1px 2px rgba(60, 64, 67, 0.3), 0px 1px 3px 1px rgba(60, 64, 67, 0.15);\n",
              "      fill: #174EA6;\n",
              "    }\n",
              "\n",
              "    .colab-df-buttons div {\n",
              "      margin-bottom: 4px;\n",
              "    }\n",
              "\n",
              "    [theme=dark] .colab-df-convert {\n",
              "      background-color: #3B4455;\n",
              "      fill: #D2E3FC;\n",
              "    }\n",
              "\n",
              "    [theme=dark] .colab-df-convert:hover {\n",
              "      background-color: #434B5C;\n",
              "      box-shadow: 0px 1px 3px 1px rgba(0, 0, 0, 0.15);\n",
              "      filter: drop-shadow(0px 1px 2px rgba(0, 0, 0, 0.3));\n",
              "      fill: #FFFFFF;\n",
              "    }\n",
              "  </style>\n",
              "\n",
              "    <script>\n",
              "      const buttonEl =\n",
              "        document.querySelector('#df-331511c5-79b2-41c5-a941-7fc91c2dccc5 button.colab-df-convert');\n",
              "      buttonEl.style.display =\n",
              "        google.colab.kernel.accessAllowed ? 'block' : 'none';\n",
              "\n",
              "      async function convertToInteractive(key) {\n",
              "        const element = document.querySelector('#df-331511c5-79b2-41c5-a941-7fc91c2dccc5');\n",
              "        const dataTable =\n",
              "          await google.colab.kernel.invokeFunction('convertToInteractive',\n",
              "                                                    [key], {});\n",
              "        if (!dataTable) return;\n",
              "\n",
              "        const docLinkHtml = 'Like what you see? Visit the ' +\n",
              "          '<a target=\"_blank\" href=https://colab.research.google.com/notebooks/data_table.ipynb>data table notebook</a>'\n",
              "          + ' to learn more about interactive tables.';\n",
              "        element.innerHTML = '';\n",
              "        dataTable['output_type'] = 'display_data';\n",
              "        await google.colab.output.renderOutput(dataTable, element);\n",
              "        const docLink = document.createElement('div');\n",
              "        docLink.innerHTML = docLinkHtml;\n",
              "        element.appendChild(docLink);\n",
              "      }\n",
              "    </script>\n",
              "  </div>\n",
              "\n",
              "\n",
              "<div id=\"df-55a46dd5-04dd-47aa-99d7-09699727018e\">\n",
              "  <button class=\"colab-df-quickchart\" onclick=\"quickchart('df-55a46dd5-04dd-47aa-99d7-09699727018e')\"\n",
              "            title=\"Suggest charts\"\n",
              "            style=\"display:none;\">\n",
              "\n",
              "<svg xmlns=\"http://www.w3.org/2000/svg\" height=\"24px\"viewBox=\"0 0 24 24\"\n",
              "     width=\"24px\">\n",
              "    <g>\n",
              "        <path d=\"M19 3H5c-1.1 0-2 .9-2 2v14c0 1.1.9 2 2 2h14c1.1 0 2-.9 2-2V5c0-1.1-.9-2-2-2zM9 17H7v-7h2v7zm4 0h-2V7h2v10zm4 0h-2v-4h2v4z\"/>\n",
              "    </g>\n",
              "</svg>\n",
              "  </button>\n",
              "\n",
              "<style>\n",
              "  .colab-df-quickchart {\n",
              "      --bg-color: #E8F0FE;\n",
              "      --fill-color: #1967D2;\n",
              "      --hover-bg-color: #E2EBFA;\n",
              "      --hover-fill-color: #174EA6;\n",
              "      --disabled-fill-color: #AAA;\n",
              "      --disabled-bg-color: #DDD;\n",
              "  }\n",
              "\n",
              "  [theme=dark] .colab-df-quickchart {\n",
              "      --bg-color: #3B4455;\n",
              "      --fill-color: #D2E3FC;\n",
              "      --hover-bg-color: #434B5C;\n",
              "      --hover-fill-color: #FFFFFF;\n",
              "      --disabled-bg-color: #3B4455;\n",
              "      --disabled-fill-color: #666;\n",
              "  }\n",
              "\n",
              "  .colab-df-quickchart {\n",
              "    background-color: var(--bg-color);\n",
              "    border: none;\n",
              "    border-radius: 50%;\n",
              "    cursor: pointer;\n",
              "    display: none;\n",
              "    fill: var(--fill-color);\n",
              "    height: 32px;\n",
              "    padding: 0;\n",
              "    width: 32px;\n",
              "  }\n",
              "\n",
              "  .colab-df-quickchart:hover {\n",
              "    background-color: var(--hover-bg-color);\n",
              "    box-shadow: 0 1px 2px rgba(60, 64, 67, 0.3), 0 1px 3px 1px rgba(60, 64, 67, 0.15);\n",
              "    fill: var(--button-hover-fill-color);\n",
              "  }\n",
              "\n",
              "  .colab-df-quickchart-complete:disabled,\n",
              "  .colab-df-quickchart-complete:disabled:hover {\n",
              "    background-color: var(--disabled-bg-color);\n",
              "    fill: var(--disabled-fill-color);\n",
              "    box-shadow: none;\n",
              "  }\n",
              "\n",
              "  .colab-df-spinner {\n",
              "    border: 2px solid var(--fill-color);\n",
              "    border-color: transparent;\n",
              "    border-bottom-color: var(--fill-color);\n",
              "    animation:\n",
              "      spin 1s steps(1) infinite;\n",
              "  }\n",
              "\n",
              "  @keyframes spin {\n",
              "    0% {\n",
              "      border-color: transparent;\n",
              "      border-bottom-color: var(--fill-color);\n",
              "      border-left-color: var(--fill-color);\n",
              "    }\n",
              "    20% {\n",
              "      border-color: transparent;\n",
              "      border-left-color: var(--fill-color);\n",
              "      border-top-color: var(--fill-color);\n",
              "    }\n",
              "    30% {\n",
              "      border-color: transparent;\n",
              "      border-left-color: var(--fill-color);\n",
              "      border-top-color: var(--fill-color);\n",
              "      border-right-color: var(--fill-color);\n",
              "    }\n",
              "    40% {\n",
              "      border-color: transparent;\n",
              "      border-right-color: var(--fill-color);\n",
              "      border-top-color: var(--fill-color);\n",
              "    }\n",
              "    60% {\n",
              "      border-color: transparent;\n",
              "      border-right-color: var(--fill-color);\n",
              "    }\n",
              "    80% {\n",
              "      border-color: transparent;\n",
              "      border-right-color: var(--fill-color);\n",
              "      border-bottom-color: var(--fill-color);\n",
              "    }\n",
              "    90% {\n",
              "      border-color: transparent;\n",
              "      border-bottom-color: var(--fill-color);\n",
              "    }\n",
              "  }\n",
              "</style>\n",
              "\n",
              "  <script>\n",
              "    async function quickchart(key) {\n",
              "      const quickchartButtonEl =\n",
              "        document.querySelector('#' + key + ' button');\n",
              "      quickchartButtonEl.disabled = true;  // To prevent multiple clicks.\n",
              "      quickchartButtonEl.classList.add('colab-df-spinner');\n",
              "      try {\n",
              "        const charts = await google.colab.kernel.invokeFunction(\n",
              "            'suggestCharts', [key], {});\n",
              "      } catch (error) {\n",
              "        console.error('Error during call to suggestCharts:', error);\n",
              "      }\n",
              "      quickchartButtonEl.classList.remove('colab-df-spinner');\n",
              "      quickchartButtonEl.classList.add('colab-df-quickchart-complete');\n",
              "    }\n",
              "    (() => {\n",
              "      let quickchartButtonEl =\n",
              "        document.querySelector('#df-55a46dd5-04dd-47aa-99d7-09699727018e button');\n",
              "      quickchartButtonEl.style.display =\n",
              "        google.colab.kernel.accessAllowed ? 'block' : 'none';\n",
              "    })();\n",
              "  </script>\n",
              "</div>\n",
              "\n",
              "    </div>\n",
              "  </div>\n"
            ],
            "application/vnd.google.colaboratory.intrinsic+json": {
              "type": "dataframe",
              "summary": "{\n  \"name\": \"display(df_2019\",\n  \"rows\": 5,\n  \"fields\": [\n    {\n      \"column\": \"Country\",\n      \"properties\": {\n        \"dtype\": \"string\",\n        \"num_unique_values\": 5,\n        \"samples\": [\n          \"Switzerland\",\n          \"Finland\",\n          \"Iceland\"\n        ],\n        \"semantic_type\": \"\",\n        \"description\": \"\"\n      }\n    },\n    {\n      \"column\": \"Region\",\n      \"properties\": {\n        \"dtype\": \"category\",\n        \"num_unique_values\": 1,\n        \"samples\": [\n          \"Western Europe\"\n        ],\n        \"semantic_type\": \"\",\n        \"description\": \"\"\n      }\n    },\n    {\n      \"column\": \"Overall Rank\",\n      \"properties\": {\n        \"dtype\": \"number\",\n        \"std\": 1,\n        \"min\": 1,\n        \"max\": 5,\n        \"num_unique_values\": 5,\n        \"samples\": [\n          2\n        ],\n        \"semantic_type\": \"\",\n        \"description\": \"\"\n      }\n    },\n    {\n      \"column\": \"Score\",\n      \"properties\": {\n        \"dtype\": \"number\",\n        \"std\": 0.044071532762090235,\n        \"min\": 7.413,\n        \"max\": 7.526,\n        \"num_unique_values\": 5,\n        \"samples\": [\n          7.509\n        ],\n        \"semantic_type\": \"\",\n        \"description\": \"\"\n      }\n    },\n    {\n      \"column\": \"Lower Confidence Interval\",\n      \"properties\": {\n        \"dtype\": \"number\",\n        \"std\": 0.05409528630111865,\n        \"min\": 7.333,\n        \"max\": 7.46,\n        \"num_unique_values\": 5,\n        \"samples\": [\n          7.428\n        ],\n        \"semantic_type\": \"\",\n        \"description\": \"\"\n      }\n    },\n    {\n      \"column\": \"Upper Confidence Interval\",\n      \"properties\": {\n        \"dtype\": \"number\",\n        \"std\": 0.06930872960890279,\n        \"min\": 7.475,\n        \"max\": 7.669,\n        \"num_unique_values\": 5,\n        \"samples\": [\n          7.59\n        ],\n        \"semantic_type\": \"\",\n        \"description\": \"\"\n      }\n    },\n    {\n      \"column\": \"GDP per capita\",\n      \"properties\": {\n        \"dtype\": \"number\",\n        \"std\": 0.07319999262295043,\n        \"min\": 1.40598,\n        \"max\": 1.57744,\n        \"num_unique_values\": 5,\n        \"samples\": [\n          1.52733\n        ],\n        \"semantic_type\": \"\",\n        \"description\": \"\"\n      }\n    },\n    {\n      \"column\": \"Family\",\n      \"properties\": {\n        \"dtype\": \"number\",\n        \"std\": 0.022827366909041406,\n        \"min\": 1.1269,\n        \"max\": 1.18326,\n        \"num_unique_values\": 5,\n        \"samples\": [\n          1.14524\n        ],\n        \"semantic_type\": \"\",\n        \"description\": \"\"\n      }\n    },\n    {\n      \"column\": \"Healthy life expectancy\",\n      \"properties\": {\n        \"dtype\": \"number\",\n        \"std\": 0.035977012104953916,\n        \"min\": 0.79504,\n        \"max\": 0.86733,\n        \"num_unique_values\": 5,\n        \"samples\": [\n          0.86303\n        ],\n        \"semantic_type\": \"\",\n        \"description\": \"\"\n      }\n    },\n    {\n      \"column\": \"Freedom\",\n      \"properties\": {\n        \"dtype\": \"number\",\n        \"std\": 0.011825140591130425,\n        \"min\": 0.56624,\n        \"max\": 0.59609,\n        \"num_unique_values\": 5,\n        \"samples\": [\n          0.58557\n        ],\n        \"semantic_type\": \"\",\n        \"description\": \"\"\n      }\n    },\n    {\n      \"column\": \"Perceptions of corruption\",\n      \"properties\": {\n        \"dtype\": \"number\",\n        \"std\": 0.11877759161559051,\n        \"min\": 0.14975,\n        \"max\": 0.44453,\n        \"num_unique_values\": 5,\n        \"samples\": [\n          0.41203\n        ],\n        \"semantic_type\": \"\",\n        \"description\": \"\"\n      }\n    },\n    {\n      \"column\": \"Generosity\",\n      \"properties\": {\n        \"dtype\": \"number\",\n        \"std\": 0.0878508040372995,\n        \"min\": 0.25492,\n        \"max\": 0.47678,\n        \"num_unique_values\": 5,\n        \"samples\": [\n          0.28083\n        ],\n        \"semantic_type\": \"\",\n        \"description\": \"\"\n      }\n    },\n    {\n      \"column\": \"Dystopia Residual\",\n      \"properties\": {\n        \"dtype\": \"number\",\n        \"std\": 0.07557583939328757,\n        \"min\": 2.66465,\n        \"max\": 2.83137,\n        \"num_unique_values\": 5,\n        \"samples\": [\n          2.69463\n        ],\n        \"semantic_type\": \"\",\n        \"description\": \"\"\n      }\n    },\n    {\n      \"column\": \"Year\",\n      \"properties\": {\n        \"dtype\": \"number\",\n        \"std\": 0,\n        \"min\": 2016,\n        \"max\": 2016,\n        \"num_unique_values\": 1,\n        \"samples\": [\n          2016\n        ],\n        \"semantic_type\": \"\",\n        \"description\": \"\"\n      }\n    }\n  ]\n}"
            }
          },
          "metadata": {}
        },
        {
          "output_type": "stream",
          "name": "stdout",
          "text": [
            "(157, 14)\n"
          ]
        },
        {
          "output_type": "display_data",
          "data": {
            "text/plain": [
              "       Country          Region  Overall Rank  Score  \\\n",
              "0      Denmark  Western Europe             1  7.526   \n",
              "1  Switzerland  Western Europe             2  7.509   \n",
              "2      Iceland  Western Europe             3  7.501   \n",
              "3       Norway  Western Europe             4  7.498   \n",
              "4      Finland  Western Europe             5  7.413   \n",
              "\n",
              "   Lower Confidence Interval  Upper Confidence Interval  GDP per capita  \\\n",
              "0                      7.460                      7.592         1.44178   \n",
              "1                      7.428                      7.590         1.52733   \n",
              "2                      7.333                      7.669         1.42666   \n",
              "3                      7.421                      7.575         1.57744   \n",
              "4                      7.351                      7.475         1.40598   \n",
              "\n",
              "    Family  Healthy life expectancy  Freedom  Perceptions of corruption  \\\n",
              "0  1.16374                  0.79504  0.57941                    0.44453   \n",
              "1  1.14524                  0.86303  0.58557                    0.41203   \n",
              "2  1.18326                  0.86733  0.56624                    0.14975   \n",
              "3  1.12690                  0.79579  0.59609                    0.35776   \n",
              "4  1.13464                  0.81091  0.57104                    0.41004   \n",
              "\n",
              "   Generosity  Dystopia Residual  Year  \n",
              "0     0.36171            2.73939  2016  \n",
              "1     0.28083            2.69463  2016  \n",
              "2     0.47678            2.83137  2016  \n",
              "3     0.37895            2.66465  2016  \n",
              "4     0.25492            2.82596  2016  "
            ],
            "text/html": [
              "\n",
              "  <div id=\"df-f0c98954-3f7e-4f3e-86f3-6636d31fe9f9\" class=\"colab-df-container\">\n",
              "    <div>\n",
              "<style scoped>\n",
              "    .dataframe tbody tr th:only-of-type {\n",
              "        vertical-align: middle;\n",
              "    }\n",
              "\n",
              "    .dataframe tbody tr th {\n",
              "        vertical-align: top;\n",
              "    }\n",
              "\n",
              "    .dataframe thead th {\n",
              "        text-align: right;\n",
              "    }\n",
              "</style>\n",
              "<table border=\"1\" class=\"dataframe\">\n",
              "  <thead>\n",
              "    <tr style=\"text-align: right;\">\n",
              "      <th></th>\n",
              "      <th>Country</th>\n",
              "      <th>Region</th>\n",
              "      <th>Overall Rank</th>\n",
              "      <th>Score</th>\n",
              "      <th>Lower Confidence Interval</th>\n",
              "      <th>Upper Confidence Interval</th>\n",
              "      <th>GDP per capita</th>\n",
              "      <th>Family</th>\n",
              "      <th>Healthy life expectancy</th>\n",
              "      <th>Freedom</th>\n",
              "      <th>Perceptions of corruption</th>\n",
              "      <th>Generosity</th>\n",
              "      <th>Dystopia Residual</th>\n",
              "      <th>Year</th>\n",
              "    </tr>\n",
              "  </thead>\n",
              "  <tbody>\n",
              "    <tr>\n",
              "      <th>0</th>\n",
              "      <td>Denmark</td>\n",
              "      <td>Western Europe</td>\n",
              "      <td>1</td>\n",
              "      <td>7.526</td>\n",
              "      <td>7.460</td>\n",
              "      <td>7.592</td>\n",
              "      <td>1.44178</td>\n",
              "      <td>1.16374</td>\n",
              "      <td>0.79504</td>\n",
              "      <td>0.57941</td>\n",
              "      <td>0.44453</td>\n",
              "      <td>0.36171</td>\n",
              "      <td>2.73939</td>\n",
              "      <td>2016</td>\n",
              "    </tr>\n",
              "    <tr>\n",
              "      <th>1</th>\n",
              "      <td>Switzerland</td>\n",
              "      <td>Western Europe</td>\n",
              "      <td>2</td>\n",
              "      <td>7.509</td>\n",
              "      <td>7.428</td>\n",
              "      <td>7.590</td>\n",
              "      <td>1.52733</td>\n",
              "      <td>1.14524</td>\n",
              "      <td>0.86303</td>\n",
              "      <td>0.58557</td>\n",
              "      <td>0.41203</td>\n",
              "      <td>0.28083</td>\n",
              "      <td>2.69463</td>\n",
              "      <td>2016</td>\n",
              "    </tr>\n",
              "    <tr>\n",
              "      <th>2</th>\n",
              "      <td>Iceland</td>\n",
              "      <td>Western Europe</td>\n",
              "      <td>3</td>\n",
              "      <td>7.501</td>\n",
              "      <td>7.333</td>\n",
              "      <td>7.669</td>\n",
              "      <td>1.42666</td>\n",
              "      <td>1.18326</td>\n",
              "      <td>0.86733</td>\n",
              "      <td>0.56624</td>\n",
              "      <td>0.14975</td>\n",
              "      <td>0.47678</td>\n",
              "      <td>2.83137</td>\n",
              "      <td>2016</td>\n",
              "    </tr>\n",
              "    <tr>\n",
              "      <th>3</th>\n",
              "      <td>Norway</td>\n",
              "      <td>Western Europe</td>\n",
              "      <td>4</td>\n",
              "      <td>7.498</td>\n",
              "      <td>7.421</td>\n",
              "      <td>7.575</td>\n",
              "      <td>1.57744</td>\n",
              "      <td>1.12690</td>\n",
              "      <td>0.79579</td>\n",
              "      <td>0.59609</td>\n",
              "      <td>0.35776</td>\n",
              "      <td>0.37895</td>\n",
              "      <td>2.66465</td>\n",
              "      <td>2016</td>\n",
              "    </tr>\n",
              "    <tr>\n",
              "      <th>4</th>\n",
              "      <td>Finland</td>\n",
              "      <td>Western Europe</td>\n",
              "      <td>5</td>\n",
              "      <td>7.413</td>\n",
              "      <td>7.351</td>\n",
              "      <td>7.475</td>\n",
              "      <td>1.40598</td>\n",
              "      <td>1.13464</td>\n",
              "      <td>0.81091</td>\n",
              "      <td>0.57104</td>\n",
              "      <td>0.41004</td>\n",
              "      <td>0.25492</td>\n",
              "      <td>2.82596</td>\n",
              "      <td>2016</td>\n",
              "    </tr>\n",
              "  </tbody>\n",
              "</table>\n",
              "</div>\n",
              "    <div class=\"colab-df-buttons\">\n",
              "\n",
              "  <div class=\"colab-df-container\">\n",
              "    <button class=\"colab-df-convert\" onclick=\"convertToInteractive('df-f0c98954-3f7e-4f3e-86f3-6636d31fe9f9')\"\n",
              "            title=\"Convert this dataframe to an interactive table.\"\n",
              "            style=\"display:none;\">\n",
              "\n",
              "  <svg xmlns=\"http://www.w3.org/2000/svg\" height=\"24px\" viewBox=\"0 -960 960 960\">\n",
              "    <path d=\"M120-120v-720h720v720H120Zm60-500h600v-160H180v160Zm220 220h160v-160H400v160Zm0 220h160v-160H400v160ZM180-400h160v-160H180v160Zm440 0h160v-160H620v160ZM180-180h160v-160H180v160Zm440 0h160v-160H620v160Z\"/>\n",
              "  </svg>\n",
              "    </button>\n",
              "\n",
              "  <style>\n",
              "    .colab-df-container {\n",
              "      display:flex;\n",
              "      gap: 12px;\n",
              "    }\n",
              "\n",
              "    .colab-df-convert {\n",
              "      background-color: #E8F0FE;\n",
              "      border: none;\n",
              "      border-radius: 50%;\n",
              "      cursor: pointer;\n",
              "      display: none;\n",
              "      fill: #1967D2;\n",
              "      height: 32px;\n",
              "      padding: 0 0 0 0;\n",
              "      width: 32px;\n",
              "    }\n",
              "\n",
              "    .colab-df-convert:hover {\n",
              "      background-color: #E2EBFA;\n",
              "      box-shadow: 0px 1px 2px rgba(60, 64, 67, 0.3), 0px 1px 3px 1px rgba(60, 64, 67, 0.15);\n",
              "      fill: #174EA6;\n",
              "    }\n",
              "\n",
              "    .colab-df-buttons div {\n",
              "      margin-bottom: 4px;\n",
              "    }\n",
              "\n",
              "    [theme=dark] .colab-df-convert {\n",
              "      background-color: #3B4455;\n",
              "      fill: #D2E3FC;\n",
              "    }\n",
              "\n",
              "    [theme=dark] .colab-df-convert:hover {\n",
              "      background-color: #434B5C;\n",
              "      box-shadow: 0px 1px 3px 1px rgba(0, 0, 0, 0.15);\n",
              "      filter: drop-shadow(0px 1px 2px rgba(0, 0, 0, 0.3));\n",
              "      fill: #FFFFFF;\n",
              "    }\n",
              "  </style>\n",
              "\n",
              "    <script>\n",
              "      const buttonEl =\n",
              "        document.querySelector('#df-f0c98954-3f7e-4f3e-86f3-6636d31fe9f9 button.colab-df-convert');\n",
              "      buttonEl.style.display =\n",
              "        google.colab.kernel.accessAllowed ? 'block' : 'none';\n",
              "\n",
              "      async function convertToInteractive(key) {\n",
              "        const element = document.querySelector('#df-f0c98954-3f7e-4f3e-86f3-6636d31fe9f9');\n",
              "        const dataTable =\n",
              "          await google.colab.kernel.invokeFunction('convertToInteractive',\n",
              "                                                    [key], {});\n",
              "        if (!dataTable) return;\n",
              "\n",
              "        const docLinkHtml = 'Like what you see? Visit the ' +\n",
              "          '<a target=\"_blank\" href=https://colab.research.google.com/notebooks/data_table.ipynb>data table notebook</a>'\n",
              "          + ' to learn more about interactive tables.';\n",
              "        element.innerHTML = '';\n",
              "        dataTable['output_type'] = 'display_data';\n",
              "        await google.colab.output.renderOutput(dataTable, element);\n",
              "        const docLink = document.createElement('div');\n",
              "        docLink.innerHTML = docLinkHtml;\n",
              "        element.appendChild(docLink);\n",
              "      }\n",
              "    </script>\n",
              "  </div>\n",
              "\n",
              "\n",
              "<div id=\"df-c4b3a038-95ce-466e-b9f2-14fd3ebca354\">\n",
              "  <button class=\"colab-df-quickchart\" onclick=\"quickchart('df-c4b3a038-95ce-466e-b9f2-14fd3ebca354')\"\n",
              "            title=\"Suggest charts\"\n",
              "            style=\"display:none;\">\n",
              "\n",
              "<svg xmlns=\"http://www.w3.org/2000/svg\" height=\"24px\"viewBox=\"0 0 24 24\"\n",
              "     width=\"24px\">\n",
              "    <g>\n",
              "        <path d=\"M19 3H5c-1.1 0-2 .9-2 2v14c0 1.1.9 2 2 2h14c1.1 0 2-.9 2-2V5c0-1.1-.9-2-2-2zM9 17H7v-7h2v7zm4 0h-2V7h2v10zm4 0h-2v-4h2v4z\"/>\n",
              "    </g>\n",
              "</svg>\n",
              "  </button>\n",
              "\n",
              "<style>\n",
              "  .colab-df-quickchart {\n",
              "      --bg-color: #E8F0FE;\n",
              "      --fill-color: #1967D2;\n",
              "      --hover-bg-color: #E2EBFA;\n",
              "      --hover-fill-color: #174EA6;\n",
              "      --disabled-fill-color: #AAA;\n",
              "      --disabled-bg-color: #DDD;\n",
              "  }\n",
              "\n",
              "  [theme=dark] .colab-df-quickchart {\n",
              "      --bg-color: #3B4455;\n",
              "      --fill-color: #D2E3FC;\n",
              "      --hover-bg-color: #434B5C;\n",
              "      --hover-fill-color: #FFFFFF;\n",
              "      --disabled-bg-color: #3B4455;\n",
              "      --disabled-fill-color: #666;\n",
              "  }\n",
              "\n",
              "  .colab-df-quickchart {\n",
              "    background-color: var(--bg-color);\n",
              "    border: none;\n",
              "    border-radius: 50%;\n",
              "    cursor: pointer;\n",
              "    display: none;\n",
              "    fill: var(--fill-color);\n",
              "    height: 32px;\n",
              "    padding: 0;\n",
              "    width: 32px;\n",
              "  }\n",
              "\n",
              "  .colab-df-quickchart:hover {\n",
              "    background-color: var(--hover-bg-color);\n",
              "    box-shadow: 0 1px 2px rgba(60, 64, 67, 0.3), 0 1px 3px 1px rgba(60, 64, 67, 0.15);\n",
              "    fill: var(--button-hover-fill-color);\n",
              "  }\n",
              "\n",
              "  .colab-df-quickchart-complete:disabled,\n",
              "  .colab-df-quickchart-complete:disabled:hover {\n",
              "    background-color: var(--disabled-bg-color);\n",
              "    fill: var(--disabled-fill-color);\n",
              "    box-shadow: none;\n",
              "  }\n",
              "\n",
              "  .colab-df-spinner {\n",
              "    border: 2px solid var(--fill-color);\n",
              "    border-color: transparent;\n",
              "    border-bottom-color: var(--fill-color);\n",
              "    animation:\n",
              "      spin 1s steps(1) infinite;\n",
              "  }\n",
              "\n",
              "  @keyframes spin {\n",
              "    0% {\n",
              "      border-color: transparent;\n",
              "      border-bottom-color: var(--fill-color);\n",
              "      border-left-color: var(--fill-color);\n",
              "    }\n",
              "    20% {\n",
              "      border-color: transparent;\n",
              "      border-left-color: var(--fill-color);\n",
              "      border-top-color: var(--fill-color);\n",
              "    }\n",
              "    30% {\n",
              "      border-color: transparent;\n",
              "      border-left-color: var(--fill-color);\n",
              "      border-top-color: var(--fill-color);\n",
              "      border-right-color: var(--fill-color);\n",
              "    }\n",
              "    40% {\n",
              "      border-color: transparent;\n",
              "      border-right-color: var(--fill-color);\n",
              "      border-top-color: var(--fill-color);\n",
              "    }\n",
              "    60% {\n",
              "      border-color: transparent;\n",
              "      border-right-color: var(--fill-color);\n",
              "    }\n",
              "    80% {\n",
              "      border-color: transparent;\n",
              "      border-right-color: var(--fill-color);\n",
              "      border-bottom-color: var(--fill-color);\n",
              "    }\n",
              "    90% {\n",
              "      border-color: transparent;\n",
              "      border-bottom-color: var(--fill-color);\n",
              "    }\n",
              "  }\n",
              "</style>\n",
              "\n",
              "  <script>\n",
              "    async function quickchart(key) {\n",
              "      const quickchartButtonEl =\n",
              "        document.querySelector('#' + key + ' button');\n",
              "      quickchartButtonEl.disabled = true;  // To prevent multiple clicks.\n",
              "      quickchartButtonEl.classList.add('colab-df-spinner');\n",
              "      try {\n",
              "        const charts = await google.colab.kernel.invokeFunction(\n",
              "            'suggestCharts', [key], {});\n",
              "      } catch (error) {\n",
              "        console.error('Error during call to suggestCharts:', error);\n",
              "      }\n",
              "      quickchartButtonEl.classList.remove('colab-df-spinner');\n",
              "      quickchartButtonEl.classList.add('colab-df-quickchart-complete');\n",
              "    }\n",
              "    (() => {\n",
              "      let quickchartButtonEl =\n",
              "        document.querySelector('#df-c4b3a038-95ce-466e-b9f2-14fd3ebca354 button');\n",
              "      quickchartButtonEl.style.display =\n",
              "        google.colab.kernel.accessAllowed ? 'block' : 'none';\n",
              "    })();\n",
              "  </script>\n",
              "</div>\n",
              "\n",
              "    </div>\n",
              "  </div>\n"
            ],
            "application/vnd.google.colaboratory.intrinsic+json": {
              "type": "dataframe",
              "summary": "{\n  \"name\": \"display(df_2019\",\n  \"rows\": 5,\n  \"fields\": [\n    {\n      \"column\": \"Country\",\n      \"properties\": {\n        \"dtype\": \"string\",\n        \"num_unique_values\": 5,\n        \"samples\": [\n          \"Switzerland\",\n          \"Finland\",\n          \"Iceland\"\n        ],\n        \"semantic_type\": \"\",\n        \"description\": \"\"\n      }\n    },\n    {\n      \"column\": \"Region\",\n      \"properties\": {\n        \"dtype\": \"category\",\n        \"num_unique_values\": 1,\n        \"samples\": [\n          \"Western Europe\"\n        ],\n        \"semantic_type\": \"\",\n        \"description\": \"\"\n      }\n    },\n    {\n      \"column\": \"Overall Rank\",\n      \"properties\": {\n        \"dtype\": \"number\",\n        \"std\": 1,\n        \"min\": 1,\n        \"max\": 5,\n        \"num_unique_values\": 5,\n        \"samples\": [\n          2\n        ],\n        \"semantic_type\": \"\",\n        \"description\": \"\"\n      }\n    },\n    {\n      \"column\": \"Score\",\n      \"properties\": {\n        \"dtype\": \"number\",\n        \"std\": 0.044071532762090235,\n        \"min\": 7.413,\n        \"max\": 7.526,\n        \"num_unique_values\": 5,\n        \"samples\": [\n          7.509\n        ],\n        \"semantic_type\": \"\",\n        \"description\": \"\"\n      }\n    },\n    {\n      \"column\": \"Lower Confidence Interval\",\n      \"properties\": {\n        \"dtype\": \"number\",\n        \"std\": 0.05409528630111865,\n        \"min\": 7.333,\n        \"max\": 7.46,\n        \"num_unique_values\": 5,\n        \"samples\": [\n          7.428\n        ],\n        \"semantic_type\": \"\",\n        \"description\": \"\"\n      }\n    },\n    {\n      \"column\": \"Upper Confidence Interval\",\n      \"properties\": {\n        \"dtype\": \"number\",\n        \"std\": 0.06930872960890279,\n        \"min\": 7.475,\n        \"max\": 7.669,\n        \"num_unique_values\": 5,\n        \"samples\": [\n          7.59\n        ],\n        \"semantic_type\": \"\",\n        \"description\": \"\"\n      }\n    },\n    {\n      \"column\": \"GDP per capita\",\n      \"properties\": {\n        \"dtype\": \"number\",\n        \"std\": 0.07319999262295043,\n        \"min\": 1.40598,\n        \"max\": 1.57744,\n        \"num_unique_values\": 5,\n        \"samples\": [\n          1.52733\n        ],\n        \"semantic_type\": \"\",\n        \"description\": \"\"\n      }\n    },\n    {\n      \"column\": \"Family\",\n      \"properties\": {\n        \"dtype\": \"number\",\n        \"std\": 0.022827366909041406,\n        \"min\": 1.1269,\n        \"max\": 1.18326,\n        \"num_unique_values\": 5,\n        \"samples\": [\n          1.14524\n        ],\n        \"semantic_type\": \"\",\n        \"description\": \"\"\n      }\n    },\n    {\n      \"column\": \"Healthy life expectancy\",\n      \"properties\": {\n        \"dtype\": \"number\",\n        \"std\": 0.035977012104953916,\n        \"min\": 0.79504,\n        \"max\": 0.86733,\n        \"num_unique_values\": 5,\n        \"samples\": [\n          0.86303\n        ],\n        \"semantic_type\": \"\",\n        \"description\": \"\"\n      }\n    },\n    {\n      \"column\": \"Freedom\",\n      \"properties\": {\n        \"dtype\": \"number\",\n        \"std\": 0.011825140591130425,\n        \"min\": 0.56624,\n        \"max\": 0.59609,\n        \"num_unique_values\": 5,\n        \"samples\": [\n          0.58557\n        ],\n        \"semantic_type\": \"\",\n        \"description\": \"\"\n      }\n    },\n    {\n      \"column\": \"Perceptions of corruption\",\n      \"properties\": {\n        \"dtype\": \"number\",\n        \"std\": 0.11877759161559051,\n        \"min\": 0.14975,\n        \"max\": 0.44453,\n        \"num_unique_values\": 5,\n        \"samples\": [\n          0.41203\n        ],\n        \"semantic_type\": \"\",\n        \"description\": \"\"\n      }\n    },\n    {\n      \"column\": \"Generosity\",\n      \"properties\": {\n        \"dtype\": \"number\",\n        \"std\": 0.0878508040372995,\n        \"min\": 0.25492,\n        \"max\": 0.47678,\n        \"num_unique_values\": 5,\n        \"samples\": [\n          0.28083\n        ],\n        \"semantic_type\": \"\",\n        \"description\": \"\"\n      }\n    },\n    {\n      \"column\": \"Dystopia Residual\",\n      \"properties\": {\n        \"dtype\": \"number\",\n        \"std\": 0.07557583939328757,\n        \"min\": 2.66465,\n        \"max\": 2.83137,\n        \"num_unique_values\": 5,\n        \"samples\": [\n          2.69463\n        ],\n        \"semantic_type\": \"\",\n        \"description\": \"\"\n      }\n    },\n    {\n      \"column\": \"Year\",\n      \"properties\": {\n        \"dtype\": \"number\",\n        \"std\": 0,\n        \"min\": 2016,\n        \"max\": 2016,\n        \"num_unique_values\": 1,\n        \"samples\": [\n          2016\n        ],\n        \"semantic_type\": \"\",\n        \"description\": \"\"\n      }\n    }\n  ]\n}"
            }
          },
          "metadata": {}
        },
        {
          "output_type": "stream",
          "name": "stdout",
          "text": [
            "(155, 13)\n"
          ]
        },
        {
          "output_type": "display_data",
          "data": {
            "text/plain": [
              "       Country  Overall Rank  Score  Whisker.high  Whisker.low  \\\n",
              "0       Norway             1  7.537      7.594445     7.479556   \n",
              "1      Denmark             2  7.522      7.581728     7.462272   \n",
              "2      Iceland             3  7.504      7.622030     7.385970   \n",
              "3  Switzerland             4  7.494      7.561772     7.426227   \n",
              "4      Finland             5  7.469      7.527542     7.410458   \n",
              "\n",
              "   GDP per capita    Family  Healthy life expectancy   Freedom  Generosity  \\\n",
              "0        1.616463  1.533524                 0.796667  0.635423    0.362012   \n",
              "1        1.482383  1.551122                 0.792566  0.626007    0.355280   \n",
              "2        1.480633  1.610574                 0.833552  0.627163    0.475540   \n",
              "3        1.564980  1.516912                 0.858131  0.620071    0.290549   \n",
              "4        1.443572  1.540247                 0.809158  0.617951    0.245483   \n",
              "\n",
              "   Perceptions of corruption  Dystopia Residual  Year  \n",
              "0                   0.315964           2.277027  2017  \n",
              "1                   0.400770           2.313707  2017  \n",
              "2                   0.153527           2.322715  2017  \n",
              "3                   0.367007           2.276716  2017  \n",
              "4                   0.382612           2.430182  2017  "
            ],
            "text/html": [
              "\n",
              "  <div id=\"df-24bd1bae-e27c-43bc-801d-92d4e0ab10c2\" class=\"colab-df-container\">\n",
              "    <div>\n",
              "<style scoped>\n",
              "    .dataframe tbody tr th:only-of-type {\n",
              "        vertical-align: middle;\n",
              "    }\n",
              "\n",
              "    .dataframe tbody tr th {\n",
              "        vertical-align: top;\n",
              "    }\n",
              "\n",
              "    .dataframe thead th {\n",
              "        text-align: right;\n",
              "    }\n",
              "</style>\n",
              "<table border=\"1\" class=\"dataframe\">\n",
              "  <thead>\n",
              "    <tr style=\"text-align: right;\">\n",
              "      <th></th>\n",
              "      <th>Country</th>\n",
              "      <th>Overall Rank</th>\n",
              "      <th>Score</th>\n",
              "      <th>Whisker.high</th>\n",
              "      <th>Whisker.low</th>\n",
              "      <th>GDP per capita</th>\n",
              "      <th>Family</th>\n",
              "      <th>Healthy life expectancy</th>\n",
              "      <th>Freedom</th>\n",
              "      <th>Generosity</th>\n",
              "      <th>Perceptions of corruption</th>\n",
              "      <th>Dystopia Residual</th>\n",
              "      <th>Year</th>\n",
              "    </tr>\n",
              "  </thead>\n",
              "  <tbody>\n",
              "    <tr>\n",
              "      <th>0</th>\n",
              "      <td>Norway</td>\n",
              "      <td>1</td>\n",
              "      <td>7.537</td>\n",
              "      <td>7.594445</td>\n",
              "      <td>7.479556</td>\n",
              "      <td>1.616463</td>\n",
              "      <td>1.533524</td>\n",
              "      <td>0.796667</td>\n",
              "      <td>0.635423</td>\n",
              "      <td>0.362012</td>\n",
              "      <td>0.315964</td>\n",
              "      <td>2.277027</td>\n",
              "      <td>2017</td>\n",
              "    </tr>\n",
              "    <tr>\n",
              "      <th>1</th>\n",
              "      <td>Denmark</td>\n",
              "      <td>2</td>\n",
              "      <td>7.522</td>\n",
              "      <td>7.581728</td>\n",
              "      <td>7.462272</td>\n",
              "      <td>1.482383</td>\n",
              "      <td>1.551122</td>\n",
              "      <td>0.792566</td>\n",
              "      <td>0.626007</td>\n",
              "      <td>0.355280</td>\n",
              "      <td>0.400770</td>\n",
              "      <td>2.313707</td>\n",
              "      <td>2017</td>\n",
              "    </tr>\n",
              "    <tr>\n",
              "      <th>2</th>\n",
              "      <td>Iceland</td>\n",
              "      <td>3</td>\n",
              "      <td>7.504</td>\n",
              "      <td>7.622030</td>\n",
              "      <td>7.385970</td>\n",
              "      <td>1.480633</td>\n",
              "      <td>1.610574</td>\n",
              "      <td>0.833552</td>\n",
              "      <td>0.627163</td>\n",
              "      <td>0.475540</td>\n",
              "      <td>0.153527</td>\n",
              "      <td>2.322715</td>\n",
              "      <td>2017</td>\n",
              "    </tr>\n",
              "    <tr>\n",
              "      <th>3</th>\n",
              "      <td>Switzerland</td>\n",
              "      <td>4</td>\n",
              "      <td>7.494</td>\n",
              "      <td>7.561772</td>\n",
              "      <td>7.426227</td>\n",
              "      <td>1.564980</td>\n",
              "      <td>1.516912</td>\n",
              "      <td>0.858131</td>\n",
              "      <td>0.620071</td>\n",
              "      <td>0.290549</td>\n",
              "      <td>0.367007</td>\n",
              "      <td>2.276716</td>\n",
              "      <td>2017</td>\n",
              "    </tr>\n",
              "    <tr>\n",
              "      <th>4</th>\n",
              "      <td>Finland</td>\n",
              "      <td>5</td>\n",
              "      <td>7.469</td>\n",
              "      <td>7.527542</td>\n",
              "      <td>7.410458</td>\n",
              "      <td>1.443572</td>\n",
              "      <td>1.540247</td>\n",
              "      <td>0.809158</td>\n",
              "      <td>0.617951</td>\n",
              "      <td>0.245483</td>\n",
              "      <td>0.382612</td>\n",
              "      <td>2.430182</td>\n",
              "      <td>2017</td>\n",
              "    </tr>\n",
              "  </tbody>\n",
              "</table>\n",
              "</div>\n",
              "    <div class=\"colab-df-buttons\">\n",
              "\n",
              "  <div class=\"colab-df-container\">\n",
              "    <button class=\"colab-df-convert\" onclick=\"convertToInteractive('df-24bd1bae-e27c-43bc-801d-92d4e0ab10c2')\"\n",
              "            title=\"Convert this dataframe to an interactive table.\"\n",
              "            style=\"display:none;\">\n",
              "\n",
              "  <svg xmlns=\"http://www.w3.org/2000/svg\" height=\"24px\" viewBox=\"0 -960 960 960\">\n",
              "    <path d=\"M120-120v-720h720v720H120Zm60-500h600v-160H180v160Zm220 220h160v-160H400v160Zm0 220h160v-160H400v160ZM180-400h160v-160H180v160Zm440 0h160v-160H620v160ZM180-180h160v-160H180v160Zm440 0h160v-160H620v160Z\"/>\n",
              "  </svg>\n",
              "    </button>\n",
              "\n",
              "  <style>\n",
              "    .colab-df-container {\n",
              "      display:flex;\n",
              "      gap: 12px;\n",
              "    }\n",
              "\n",
              "    .colab-df-convert {\n",
              "      background-color: #E8F0FE;\n",
              "      border: none;\n",
              "      border-radius: 50%;\n",
              "      cursor: pointer;\n",
              "      display: none;\n",
              "      fill: #1967D2;\n",
              "      height: 32px;\n",
              "      padding: 0 0 0 0;\n",
              "      width: 32px;\n",
              "    }\n",
              "\n",
              "    .colab-df-convert:hover {\n",
              "      background-color: #E2EBFA;\n",
              "      box-shadow: 0px 1px 2px rgba(60, 64, 67, 0.3), 0px 1px 3px 1px rgba(60, 64, 67, 0.15);\n",
              "      fill: #174EA6;\n",
              "    }\n",
              "\n",
              "    .colab-df-buttons div {\n",
              "      margin-bottom: 4px;\n",
              "    }\n",
              "\n",
              "    [theme=dark] .colab-df-convert {\n",
              "      background-color: #3B4455;\n",
              "      fill: #D2E3FC;\n",
              "    }\n",
              "\n",
              "    [theme=dark] .colab-df-convert:hover {\n",
              "      background-color: #434B5C;\n",
              "      box-shadow: 0px 1px 3px 1px rgba(0, 0, 0, 0.15);\n",
              "      filter: drop-shadow(0px 1px 2px rgba(0, 0, 0, 0.3));\n",
              "      fill: #FFFFFF;\n",
              "    }\n",
              "  </style>\n",
              "\n",
              "    <script>\n",
              "      const buttonEl =\n",
              "        document.querySelector('#df-24bd1bae-e27c-43bc-801d-92d4e0ab10c2 button.colab-df-convert');\n",
              "      buttonEl.style.display =\n",
              "        google.colab.kernel.accessAllowed ? 'block' : 'none';\n",
              "\n",
              "      async function convertToInteractive(key) {\n",
              "        const element = document.querySelector('#df-24bd1bae-e27c-43bc-801d-92d4e0ab10c2');\n",
              "        const dataTable =\n",
              "          await google.colab.kernel.invokeFunction('convertToInteractive',\n",
              "                                                    [key], {});\n",
              "        if (!dataTable) return;\n",
              "\n",
              "        const docLinkHtml = 'Like what you see? Visit the ' +\n",
              "          '<a target=\"_blank\" href=https://colab.research.google.com/notebooks/data_table.ipynb>data table notebook</a>'\n",
              "          + ' to learn more about interactive tables.';\n",
              "        element.innerHTML = '';\n",
              "        dataTable['output_type'] = 'display_data';\n",
              "        await google.colab.output.renderOutput(dataTable, element);\n",
              "        const docLink = document.createElement('div');\n",
              "        docLink.innerHTML = docLinkHtml;\n",
              "        element.appendChild(docLink);\n",
              "      }\n",
              "    </script>\n",
              "  </div>\n",
              "\n",
              "\n",
              "<div id=\"df-c810c282-2221-4412-97d0-e645f057d04b\">\n",
              "  <button class=\"colab-df-quickchart\" onclick=\"quickchart('df-c810c282-2221-4412-97d0-e645f057d04b')\"\n",
              "            title=\"Suggest charts\"\n",
              "            style=\"display:none;\">\n",
              "\n",
              "<svg xmlns=\"http://www.w3.org/2000/svg\" height=\"24px\"viewBox=\"0 0 24 24\"\n",
              "     width=\"24px\">\n",
              "    <g>\n",
              "        <path d=\"M19 3H5c-1.1 0-2 .9-2 2v14c0 1.1.9 2 2 2h14c1.1 0 2-.9 2-2V5c0-1.1-.9-2-2-2zM9 17H7v-7h2v7zm4 0h-2V7h2v10zm4 0h-2v-4h2v4z\"/>\n",
              "    </g>\n",
              "</svg>\n",
              "  </button>\n",
              "\n",
              "<style>\n",
              "  .colab-df-quickchart {\n",
              "      --bg-color: #E8F0FE;\n",
              "      --fill-color: #1967D2;\n",
              "      --hover-bg-color: #E2EBFA;\n",
              "      --hover-fill-color: #174EA6;\n",
              "      --disabled-fill-color: #AAA;\n",
              "      --disabled-bg-color: #DDD;\n",
              "  }\n",
              "\n",
              "  [theme=dark] .colab-df-quickchart {\n",
              "      --bg-color: #3B4455;\n",
              "      --fill-color: #D2E3FC;\n",
              "      --hover-bg-color: #434B5C;\n",
              "      --hover-fill-color: #FFFFFF;\n",
              "      --disabled-bg-color: #3B4455;\n",
              "      --disabled-fill-color: #666;\n",
              "  }\n",
              "\n",
              "  .colab-df-quickchart {\n",
              "    background-color: var(--bg-color);\n",
              "    border: none;\n",
              "    border-radius: 50%;\n",
              "    cursor: pointer;\n",
              "    display: none;\n",
              "    fill: var(--fill-color);\n",
              "    height: 32px;\n",
              "    padding: 0;\n",
              "    width: 32px;\n",
              "  }\n",
              "\n",
              "  .colab-df-quickchart:hover {\n",
              "    background-color: var(--hover-bg-color);\n",
              "    box-shadow: 0 1px 2px rgba(60, 64, 67, 0.3), 0 1px 3px 1px rgba(60, 64, 67, 0.15);\n",
              "    fill: var(--button-hover-fill-color);\n",
              "  }\n",
              "\n",
              "  .colab-df-quickchart-complete:disabled,\n",
              "  .colab-df-quickchart-complete:disabled:hover {\n",
              "    background-color: var(--disabled-bg-color);\n",
              "    fill: var(--disabled-fill-color);\n",
              "    box-shadow: none;\n",
              "  }\n",
              "\n",
              "  .colab-df-spinner {\n",
              "    border: 2px solid var(--fill-color);\n",
              "    border-color: transparent;\n",
              "    border-bottom-color: var(--fill-color);\n",
              "    animation:\n",
              "      spin 1s steps(1) infinite;\n",
              "  }\n",
              "\n",
              "  @keyframes spin {\n",
              "    0% {\n",
              "      border-color: transparent;\n",
              "      border-bottom-color: var(--fill-color);\n",
              "      border-left-color: var(--fill-color);\n",
              "    }\n",
              "    20% {\n",
              "      border-color: transparent;\n",
              "      border-left-color: var(--fill-color);\n",
              "      border-top-color: var(--fill-color);\n",
              "    }\n",
              "    30% {\n",
              "      border-color: transparent;\n",
              "      border-left-color: var(--fill-color);\n",
              "      border-top-color: var(--fill-color);\n",
              "      border-right-color: var(--fill-color);\n",
              "    }\n",
              "    40% {\n",
              "      border-color: transparent;\n",
              "      border-right-color: var(--fill-color);\n",
              "      border-top-color: var(--fill-color);\n",
              "    }\n",
              "    60% {\n",
              "      border-color: transparent;\n",
              "      border-right-color: var(--fill-color);\n",
              "    }\n",
              "    80% {\n",
              "      border-color: transparent;\n",
              "      border-right-color: var(--fill-color);\n",
              "      border-bottom-color: var(--fill-color);\n",
              "    }\n",
              "    90% {\n",
              "      border-color: transparent;\n",
              "      border-bottom-color: var(--fill-color);\n",
              "    }\n",
              "  }\n",
              "</style>\n",
              "\n",
              "  <script>\n",
              "    async function quickchart(key) {\n",
              "      const quickchartButtonEl =\n",
              "        document.querySelector('#' + key + ' button');\n",
              "      quickchartButtonEl.disabled = true;  // To prevent multiple clicks.\n",
              "      quickchartButtonEl.classList.add('colab-df-spinner');\n",
              "      try {\n",
              "        const charts = await google.colab.kernel.invokeFunction(\n",
              "            'suggestCharts', [key], {});\n",
              "      } catch (error) {\n",
              "        console.error('Error during call to suggestCharts:', error);\n",
              "      }\n",
              "      quickchartButtonEl.classList.remove('colab-df-spinner');\n",
              "      quickchartButtonEl.classList.add('colab-df-quickchart-complete');\n",
              "    }\n",
              "    (() => {\n",
              "      let quickchartButtonEl =\n",
              "        document.querySelector('#df-c810c282-2221-4412-97d0-e645f057d04b button');\n",
              "      quickchartButtonEl.style.display =\n",
              "        google.colab.kernel.accessAllowed ? 'block' : 'none';\n",
              "    })();\n",
              "  </script>\n",
              "</div>\n",
              "\n",
              "    </div>\n",
              "  </div>\n"
            ],
            "application/vnd.google.colaboratory.intrinsic+json": {
              "type": "dataframe",
              "summary": "{\n  \"name\": \"display(df_2019\",\n  \"rows\": 5,\n  \"fields\": [\n    {\n      \"column\": \"Country\",\n      \"properties\": {\n        \"dtype\": \"string\",\n        \"num_unique_values\": 5,\n        \"samples\": [\n          \"Denmark\",\n          \"Finland\",\n          \"Iceland\"\n        ],\n        \"semantic_type\": \"\",\n        \"description\": \"\"\n      }\n    },\n    {\n      \"column\": \"Overall Rank\",\n      \"properties\": {\n        \"dtype\": \"number\",\n        \"std\": 1,\n        \"min\": 1,\n        \"max\": 5,\n        \"num_unique_values\": 5,\n        \"samples\": [\n          2,\n          5,\n          3\n        ],\n        \"semantic_type\": \"\",\n        \"description\": \"\"\n      }\n    },\n    {\n      \"column\": \"Score\",\n      \"properties\": {\n        \"dtype\": \"number\",\n        \"std\": 0.026128606571594874,\n        \"min\": 7.4689998626709,\n        \"max\": 7.53700017929077,\n        \"num_unique_values\": 5,\n        \"samples\": [\n          7.52199983596802,\n          7.4689998626709,\n          7.50400018692017\n        ],\n        \"semantic_type\": \"\",\n        \"description\": \"\"\n      }\n    },\n    {\n      \"column\": \"Whisker.high\",\n      \"properties\": {\n        \"dtype\": \"number\",\n        \"std\": 0.03546518501524001,\n        \"min\": 7.52754207581282,\n        \"max\": 7.62203047305346,\n        \"num_unique_values\": 5,\n        \"samples\": [\n          7.58172806486487,\n          7.52754207581282,\n          7.62203047305346\n        ],\n        \"semantic_type\": \"\",\n        \"description\": \"\"\n      }\n    },\n    {\n      \"column\": \"Whisker.low\",\n      \"properties\": {\n        \"dtype\": \"number\",\n        \"std\": 0.03804617617219944,\n        \"min\": 7.38596990078688,\n        \"max\": 7.47955553799868,\n        \"num_unique_values\": 5,\n        \"samples\": [\n          7.46227160707116,\n          7.41045764952898,\n          7.38596990078688\n        ],\n        \"semantic_type\": \"\",\n        \"description\": \"\"\n      }\n    },\n    {\n      \"column\": \"GDP per capita\",\n      \"properties\": {\n        \"dtype\": \"number\",\n        \"std\": 0.07089728614415691,\n        \"min\": 1.44357192516327,\n        \"max\": 1.61646318435669,\n        \"num_unique_values\": 5,\n        \"samples\": [\n          1.48238301277161,\n          1.44357192516327,\n          1.480633020401\n        ],\n        \"semantic_type\": \"\",\n        \"description\": \"\"\n      }\n    },\n    {\n      \"column\": \"Family\",\n      \"properties\": {\n        \"dtype\": \"number\",\n        \"std\": 0.03581469582743985,\n        \"min\": 1.51691174507141,\n        \"max\": 1.6105740070343,\n        \"num_unique_values\": 5,\n        \"samples\": [\n          1.55112159252167,\n          1.5402467250824,\n          1.6105740070343\n        ],\n        \"semantic_type\": \"\",\n        \"description\": \"\"\n      }\n    },\n    {\n      \"column\": \"Healthy life expectancy\",\n      \"properties\": {\n        \"dtype\": \"number\",\n        \"std\": 0.027534547721838495,\n        \"min\": 0.792565524578094,\n        \"max\": 0.858131289482117,\n        \"num_unique_values\": 5,\n        \"samples\": [\n          0.792565524578094,\n          0.80915766954422,\n          0.833552122116089\n        ],\n        \"semantic_type\": \"\",\n        \"description\": \"\"\n      }\n    },\n    {\n      \"column\": \"Freedom\",\n      \"properties\": {\n        \"dtype\": \"number\",\n        \"std\": 0.006851821791483211,\n        \"min\": 0.617950856685638,\n        \"max\": 0.635422587394714,\n        \"num_unique_values\": 5,\n        \"samples\": [\n          0.626006722450256,\n          0.617950856685638,\n          0.627162635326385\n        ],\n        \"semantic_type\": \"\",\n        \"description\": \"\"\n      }\n    },\n    {\n      \"column\": \"Generosity\",\n      \"properties\": {\n        \"dtype\": \"number\",\n        \"std\": 0.08703652380666103,\n        \"min\": 0.24548277258873,\n        \"max\": 0.475540220737457,\n        \"num_unique_values\": 5,\n        \"samples\": [\n          0.355280488729477,\n          0.24548277258873,\n          0.475540220737457\n        ],\n        \"semantic_type\": \"\",\n        \"description\": \"\"\n      }\n    },\n    {\n      \"column\": \"Perceptions of corruption\",\n      \"properties\": {\n        \"dtype\": \"number\",\n        \"std\": 0.10037972142444952,\n        \"min\": 0.153526559472084,\n        \"max\": 0.40077006816864,\n        \"num_unique_values\": 5,\n        \"samples\": [\n          0.40077006816864,\n          0.38261154294014,\n          0.153526559472084\n        ],\n        \"semantic_type\": \"\",\n        \"description\": \"\"\n      }\n    },\n    {\n      \"column\": \"Dystopia Residual\",\n      \"properties\": {\n        \"dtype\": \"number\",\n        \"std\": 0.0628973899594034,\n        \"min\": 2.2767162322998,\n        \"max\": 2.4301815032959,\n        \"num_unique_values\": 5,\n        \"samples\": [\n          2.31370735168457,\n          2.4301815032959,\n          2.32271528244019\n        ],\n        \"semantic_type\": \"\",\n        \"description\": \"\"\n      }\n    },\n    {\n      \"column\": \"Year\",\n      \"properties\": {\n        \"dtype\": \"number\",\n        \"std\": 0,\n        \"min\": 2017,\n        \"max\": 2017,\n        \"num_unique_values\": 1,\n        \"samples\": [\n          2017\n        ],\n        \"semantic_type\": \"\",\n        \"description\": \"\"\n      }\n    }\n  ]\n}"
            }
          },
          "metadata": {}
        },
        {
          "output_type": "stream",
          "name": "stdout",
          "text": [
            "(156, 10)\n"
          ]
        },
        {
          "output_type": "display_data",
          "data": {
            "text/plain": [
              "   Overall Rank      Country  Score  GDP per capita  Family  \\\n",
              "0             1      Finland  7.632           1.305   1.592   \n",
              "1             2       Norway  7.594           1.456   1.582   \n",
              "2             3      Denmark  7.555           1.351   1.590   \n",
              "3             4      Iceland  7.495           1.343   1.644   \n",
              "4             5  Switzerland  7.487           1.420   1.549   \n",
              "\n",
              "   Healthy life expectancy  Freedom  Generosity  Perceptions of corruption  \\\n",
              "0                    0.874    0.681       0.202                      0.393   \n",
              "1                    0.861    0.686       0.286                      0.340   \n",
              "2                    0.868    0.683       0.284                      0.408   \n",
              "3                    0.914    0.677       0.353                      0.138   \n",
              "4                    0.927    0.660       0.256                      0.357   \n",
              "\n",
              "   Year  \n",
              "0  2018  \n",
              "1  2018  \n",
              "2  2018  \n",
              "3  2018  \n",
              "4  2018  "
            ],
            "text/html": [
              "\n",
              "  <div id=\"df-4f0214c4-dff0-4c17-96d8-177f8b73fa0d\" class=\"colab-df-container\">\n",
              "    <div>\n",
              "<style scoped>\n",
              "    .dataframe tbody tr th:only-of-type {\n",
              "        vertical-align: middle;\n",
              "    }\n",
              "\n",
              "    .dataframe tbody tr th {\n",
              "        vertical-align: top;\n",
              "    }\n",
              "\n",
              "    .dataframe thead th {\n",
              "        text-align: right;\n",
              "    }\n",
              "</style>\n",
              "<table border=\"1\" class=\"dataframe\">\n",
              "  <thead>\n",
              "    <tr style=\"text-align: right;\">\n",
              "      <th></th>\n",
              "      <th>Overall Rank</th>\n",
              "      <th>Country</th>\n",
              "      <th>Score</th>\n",
              "      <th>GDP per capita</th>\n",
              "      <th>Family</th>\n",
              "      <th>Healthy life expectancy</th>\n",
              "      <th>Freedom</th>\n",
              "      <th>Generosity</th>\n",
              "      <th>Perceptions of corruption</th>\n",
              "      <th>Year</th>\n",
              "    </tr>\n",
              "  </thead>\n",
              "  <tbody>\n",
              "    <tr>\n",
              "      <th>0</th>\n",
              "      <td>1</td>\n",
              "      <td>Finland</td>\n",
              "      <td>7.632</td>\n",
              "      <td>1.305</td>\n",
              "      <td>1.592</td>\n",
              "      <td>0.874</td>\n",
              "      <td>0.681</td>\n",
              "      <td>0.202</td>\n",
              "      <td>0.393</td>\n",
              "      <td>2018</td>\n",
              "    </tr>\n",
              "    <tr>\n",
              "      <th>1</th>\n",
              "      <td>2</td>\n",
              "      <td>Norway</td>\n",
              "      <td>7.594</td>\n",
              "      <td>1.456</td>\n",
              "      <td>1.582</td>\n",
              "      <td>0.861</td>\n",
              "      <td>0.686</td>\n",
              "      <td>0.286</td>\n",
              "      <td>0.340</td>\n",
              "      <td>2018</td>\n",
              "    </tr>\n",
              "    <tr>\n",
              "      <th>2</th>\n",
              "      <td>3</td>\n",
              "      <td>Denmark</td>\n",
              "      <td>7.555</td>\n",
              "      <td>1.351</td>\n",
              "      <td>1.590</td>\n",
              "      <td>0.868</td>\n",
              "      <td>0.683</td>\n",
              "      <td>0.284</td>\n",
              "      <td>0.408</td>\n",
              "      <td>2018</td>\n",
              "    </tr>\n",
              "    <tr>\n",
              "      <th>3</th>\n",
              "      <td>4</td>\n",
              "      <td>Iceland</td>\n",
              "      <td>7.495</td>\n",
              "      <td>1.343</td>\n",
              "      <td>1.644</td>\n",
              "      <td>0.914</td>\n",
              "      <td>0.677</td>\n",
              "      <td>0.353</td>\n",
              "      <td>0.138</td>\n",
              "      <td>2018</td>\n",
              "    </tr>\n",
              "    <tr>\n",
              "      <th>4</th>\n",
              "      <td>5</td>\n",
              "      <td>Switzerland</td>\n",
              "      <td>7.487</td>\n",
              "      <td>1.420</td>\n",
              "      <td>1.549</td>\n",
              "      <td>0.927</td>\n",
              "      <td>0.660</td>\n",
              "      <td>0.256</td>\n",
              "      <td>0.357</td>\n",
              "      <td>2018</td>\n",
              "    </tr>\n",
              "  </tbody>\n",
              "</table>\n",
              "</div>\n",
              "    <div class=\"colab-df-buttons\">\n",
              "\n",
              "  <div class=\"colab-df-container\">\n",
              "    <button class=\"colab-df-convert\" onclick=\"convertToInteractive('df-4f0214c4-dff0-4c17-96d8-177f8b73fa0d')\"\n",
              "            title=\"Convert this dataframe to an interactive table.\"\n",
              "            style=\"display:none;\">\n",
              "\n",
              "  <svg xmlns=\"http://www.w3.org/2000/svg\" height=\"24px\" viewBox=\"0 -960 960 960\">\n",
              "    <path d=\"M120-120v-720h720v720H120Zm60-500h600v-160H180v160Zm220 220h160v-160H400v160Zm0 220h160v-160H400v160ZM180-400h160v-160H180v160Zm440 0h160v-160H620v160ZM180-180h160v-160H180v160Zm440 0h160v-160H620v160Z\"/>\n",
              "  </svg>\n",
              "    </button>\n",
              "\n",
              "  <style>\n",
              "    .colab-df-container {\n",
              "      display:flex;\n",
              "      gap: 12px;\n",
              "    }\n",
              "\n",
              "    .colab-df-convert {\n",
              "      background-color: #E8F0FE;\n",
              "      border: none;\n",
              "      border-radius: 50%;\n",
              "      cursor: pointer;\n",
              "      display: none;\n",
              "      fill: #1967D2;\n",
              "      height: 32px;\n",
              "      padding: 0 0 0 0;\n",
              "      width: 32px;\n",
              "    }\n",
              "\n",
              "    .colab-df-convert:hover {\n",
              "      background-color: #E2EBFA;\n",
              "      box-shadow: 0px 1px 2px rgba(60, 64, 67, 0.3), 0px 1px 3px 1px rgba(60, 64, 67, 0.15);\n",
              "      fill: #174EA6;\n",
              "    }\n",
              "\n",
              "    .colab-df-buttons div {\n",
              "      margin-bottom: 4px;\n",
              "    }\n",
              "\n",
              "    [theme=dark] .colab-df-convert {\n",
              "      background-color: #3B4455;\n",
              "      fill: #D2E3FC;\n",
              "    }\n",
              "\n",
              "    [theme=dark] .colab-df-convert:hover {\n",
              "      background-color: #434B5C;\n",
              "      box-shadow: 0px 1px 3px 1px rgba(0, 0, 0, 0.15);\n",
              "      filter: drop-shadow(0px 1px 2px rgba(0, 0, 0, 0.3));\n",
              "      fill: #FFFFFF;\n",
              "    }\n",
              "  </style>\n",
              "\n",
              "    <script>\n",
              "      const buttonEl =\n",
              "        document.querySelector('#df-4f0214c4-dff0-4c17-96d8-177f8b73fa0d button.colab-df-convert');\n",
              "      buttonEl.style.display =\n",
              "        google.colab.kernel.accessAllowed ? 'block' : 'none';\n",
              "\n",
              "      async function convertToInteractive(key) {\n",
              "        const element = document.querySelector('#df-4f0214c4-dff0-4c17-96d8-177f8b73fa0d');\n",
              "        const dataTable =\n",
              "          await google.colab.kernel.invokeFunction('convertToInteractive',\n",
              "                                                    [key], {});\n",
              "        if (!dataTable) return;\n",
              "\n",
              "        const docLinkHtml = 'Like what you see? Visit the ' +\n",
              "          '<a target=\"_blank\" href=https://colab.research.google.com/notebooks/data_table.ipynb>data table notebook</a>'\n",
              "          + ' to learn more about interactive tables.';\n",
              "        element.innerHTML = '';\n",
              "        dataTable['output_type'] = 'display_data';\n",
              "        await google.colab.output.renderOutput(dataTable, element);\n",
              "        const docLink = document.createElement('div');\n",
              "        docLink.innerHTML = docLinkHtml;\n",
              "        element.appendChild(docLink);\n",
              "      }\n",
              "    </script>\n",
              "  </div>\n",
              "\n",
              "\n",
              "<div id=\"df-19b8ea74-d5c8-44af-a0a9-bc3486e793ad\">\n",
              "  <button class=\"colab-df-quickchart\" onclick=\"quickchart('df-19b8ea74-d5c8-44af-a0a9-bc3486e793ad')\"\n",
              "            title=\"Suggest charts\"\n",
              "            style=\"display:none;\">\n",
              "\n",
              "<svg xmlns=\"http://www.w3.org/2000/svg\" height=\"24px\"viewBox=\"0 0 24 24\"\n",
              "     width=\"24px\">\n",
              "    <g>\n",
              "        <path d=\"M19 3H5c-1.1 0-2 .9-2 2v14c0 1.1.9 2 2 2h14c1.1 0 2-.9 2-2V5c0-1.1-.9-2-2-2zM9 17H7v-7h2v7zm4 0h-2V7h2v10zm4 0h-2v-4h2v4z\"/>\n",
              "    </g>\n",
              "</svg>\n",
              "  </button>\n",
              "\n",
              "<style>\n",
              "  .colab-df-quickchart {\n",
              "      --bg-color: #E8F0FE;\n",
              "      --fill-color: #1967D2;\n",
              "      --hover-bg-color: #E2EBFA;\n",
              "      --hover-fill-color: #174EA6;\n",
              "      --disabled-fill-color: #AAA;\n",
              "      --disabled-bg-color: #DDD;\n",
              "  }\n",
              "\n",
              "  [theme=dark] .colab-df-quickchart {\n",
              "      --bg-color: #3B4455;\n",
              "      --fill-color: #D2E3FC;\n",
              "      --hover-bg-color: #434B5C;\n",
              "      --hover-fill-color: #FFFFFF;\n",
              "      --disabled-bg-color: #3B4455;\n",
              "      --disabled-fill-color: #666;\n",
              "  }\n",
              "\n",
              "  .colab-df-quickchart {\n",
              "    background-color: var(--bg-color);\n",
              "    border: none;\n",
              "    border-radius: 50%;\n",
              "    cursor: pointer;\n",
              "    display: none;\n",
              "    fill: var(--fill-color);\n",
              "    height: 32px;\n",
              "    padding: 0;\n",
              "    width: 32px;\n",
              "  }\n",
              "\n",
              "  .colab-df-quickchart:hover {\n",
              "    background-color: var(--hover-bg-color);\n",
              "    box-shadow: 0 1px 2px rgba(60, 64, 67, 0.3), 0 1px 3px 1px rgba(60, 64, 67, 0.15);\n",
              "    fill: var(--button-hover-fill-color);\n",
              "  }\n",
              "\n",
              "  .colab-df-quickchart-complete:disabled,\n",
              "  .colab-df-quickchart-complete:disabled:hover {\n",
              "    background-color: var(--disabled-bg-color);\n",
              "    fill: var(--disabled-fill-color);\n",
              "    box-shadow: none;\n",
              "  }\n",
              "\n",
              "  .colab-df-spinner {\n",
              "    border: 2px solid var(--fill-color);\n",
              "    border-color: transparent;\n",
              "    border-bottom-color: var(--fill-color);\n",
              "    animation:\n",
              "      spin 1s steps(1) infinite;\n",
              "  }\n",
              "\n",
              "  @keyframes spin {\n",
              "    0% {\n",
              "      border-color: transparent;\n",
              "      border-bottom-color: var(--fill-color);\n",
              "      border-left-color: var(--fill-color);\n",
              "    }\n",
              "    20% {\n",
              "      border-color: transparent;\n",
              "      border-left-color: var(--fill-color);\n",
              "      border-top-color: var(--fill-color);\n",
              "    }\n",
              "    30% {\n",
              "      border-color: transparent;\n",
              "      border-left-color: var(--fill-color);\n",
              "      border-top-color: var(--fill-color);\n",
              "      border-right-color: var(--fill-color);\n",
              "    }\n",
              "    40% {\n",
              "      border-color: transparent;\n",
              "      border-right-color: var(--fill-color);\n",
              "      border-top-color: var(--fill-color);\n",
              "    }\n",
              "    60% {\n",
              "      border-color: transparent;\n",
              "      border-right-color: var(--fill-color);\n",
              "    }\n",
              "    80% {\n",
              "      border-color: transparent;\n",
              "      border-right-color: var(--fill-color);\n",
              "      border-bottom-color: var(--fill-color);\n",
              "    }\n",
              "    90% {\n",
              "      border-color: transparent;\n",
              "      border-bottom-color: var(--fill-color);\n",
              "    }\n",
              "  }\n",
              "</style>\n",
              "\n",
              "  <script>\n",
              "    async function quickchart(key) {\n",
              "      const quickchartButtonEl =\n",
              "        document.querySelector('#' + key + ' button');\n",
              "      quickchartButtonEl.disabled = true;  // To prevent multiple clicks.\n",
              "      quickchartButtonEl.classList.add('colab-df-spinner');\n",
              "      try {\n",
              "        const charts = await google.colab.kernel.invokeFunction(\n",
              "            'suggestCharts', [key], {});\n",
              "      } catch (error) {\n",
              "        console.error('Error during call to suggestCharts:', error);\n",
              "      }\n",
              "      quickchartButtonEl.classList.remove('colab-df-spinner');\n",
              "      quickchartButtonEl.classList.add('colab-df-quickchart-complete');\n",
              "    }\n",
              "    (() => {\n",
              "      let quickchartButtonEl =\n",
              "        document.querySelector('#df-19b8ea74-d5c8-44af-a0a9-bc3486e793ad button');\n",
              "      quickchartButtonEl.style.display =\n",
              "        google.colab.kernel.accessAllowed ? 'block' : 'none';\n",
              "    })();\n",
              "  </script>\n",
              "</div>\n",
              "\n",
              "    </div>\n",
              "  </div>\n"
            ],
            "application/vnd.google.colaboratory.intrinsic+json": {
              "type": "dataframe",
              "summary": "{\n  \"name\": \"display(df_2019\",\n  \"rows\": 5,\n  \"fields\": [\n    {\n      \"column\": \"Overall Rank\",\n      \"properties\": {\n        \"dtype\": \"number\",\n        \"std\": 1,\n        \"min\": 1,\n        \"max\": 5,\n        \"num_unique_values\": 5,\n        \"samples\": [\n          2,\n          5,\n          3\n        ],\n        \"semantic_type\": \"\",\n        \"description\": \"\"\n      }\n    },\n    {\n      \"column\": \"Country\",\n      \"properties\": {\n        \"dtype\": \"string\",\n        \"num_unique_values\": 5,\n        \"samples\": [\n          \"Norway\",\n          \"Switzerland\",\n          \"Denmark\"\n        ],\n        \"semantic_type\": \"\",\n        \"description\": \"\"\n      }\n    },\n    {\n      \"column\": \"Score\",\n      \"properties\": {\n        \"dtype\": \"number\",\n        \"std\": 0.0625403869511533,\n        \"min\": 7.487,\n        \"max\": 7.632,\n        \"num_unique_values\": 5,\n        \"samples\": [\n          7.594,\n          7.487,\n          7.555\n        ],\n        \"semantic_type\": \"\",\n        \"description\": \"\"\n      }\n    },\n    {\n      \"column\": \"GDP per capita\",\n      \"properties\": {\n        \"dtype\": \"number\",\n        \"std\": 0.061412539436177034,\n        \"min\": 1.305,\n        \"max\": 1.456,\n        \"num_unique_values\": 5,\n        \"samples\": [\n          1.456,\n          1.42,\n          1.351\n        ],\n        \"semantic_type\": \"\",\n        \"description\": \"\"\n      }\n    },\n    {\n      \"column\": \"Family\",\n      \"properties\": {\n        \"dtype\": \"number\",\n        \"std\": 0.034114513040640025,\n        \"min\": 1.549,\n        \"max\": 1.644,\n        \"num_unique_values\": 5,\n        \"samples\": [\n          1.582,\n          1.549,\n          1.59\n        ],\n        \"semantic_type\": \"\",\n        \"description\": \"\"\n      }\n    },\n    {\n      \"column\": \"Healthy life expectancy\",\n      \"properties\": {\n        \"dtype\": \"number\",\n        \"std\": 0.029659737018389115,\n        \"min\": 0.861,\n        \"max\": 0.927,\n        \"num_unique_values\": 5,\n        \"samples\": [\n          0.861,\n          0.927,\n          0.868\n        ],\n        \"semantic_type\": \"\",\n        \"description\": \"\"\n      }\n    },\n    {\n      \"column\": \"Freedom\",\n      \"properties\": {\n        \"dtype\": \"number\",\n        \"std\": 0.01026157882589225,\n        \"min\": 0.66,\n        \"max\": 0.686,\n        \"num_unique_values\": 5,\n        \"samples\": [\n          0.686,\n          0.66,\n          0.683\n        ],\n        \"semantic_type\": \"\",\n        \"description\": \"\"\n      }\n    },\n    {\n      \"column\": \"Generosity\",\n      \"properties\": {\n        \"dtype\": \"number\",\n        \"std\": 0.05470100547521954,\n        \"min\": 0.202,\n        \"max\": 0.353,\n        \"num_unique_values\": 5,\n        \"samples\": [\n          0.286,\n          0.256,\n          0.284\n        ],\n        \"semantic_type\": \"\",\n        \"description\": \"\"\n      }\n    },\n    {\n      \"column\": \"Perceptions of corruption\",\n      \"properties\": {\n        \"dtype\": \"number\",\n        \"std\": 0.10920943182710914,\n        \"min\": 0.138,\n        \"max\": 0.408,\n        \"num_unique_values\": 5,\n        \"samples\": [\n          0.34,\n          0.357,\n          0.408\n        ],\n        \"semantic_type\": \"\",\n        \"description\": \"\"\n      }\n    },\n    {\n      \"column\": \"Year\",\n      \"properties\": {\n        \"dtype\": \"number\",\n        \"std\": 0,\n        \"min\": 2018,\n        \"max\": 2018,\n        \"num_unique_values\": 1,\n        \"samples\": [\n          2018\n        ],\n        \"semantic_type\": \"\",\n        \"description\": \"\"\n      }\n    }\n  ]\n}"
            }
          },
          "metadata": {}
        },
        {
          "output_type": "stream",
          "name": "stdout",
          "text": [
            "(156, 10)\n"
          ]
        },
        {
          "output_type": "display_data",
          "data": {
            "text/plain": [
              "   Overall Rank      Country  Score  GDP per capita  Family  \\\n",
              "0             1      Finland  7.769           1.340   1.587   \n",
              "1             2      Denmark  7.600           1.383   1.573   \n",
              "2             3       Norway  7.554           1.488   1.582   \n",
              "3             4      Iceland  7.494           1.380   1.624   \n",
              "4             5  Netherlands  7.488           1.396   1.522   \n",
              "\n",
              "   Healthy life expectancy  Freedom  Generosity  Perceptions of corruption  \\\n",
              "0                    0.986    0.596       0.153                      0.393   \n",
              "1                    0.996    0.592       0.252                      0.410   \n",
              "2                    1.028    0.603       0.271                      0.341   \n",
              "3                    1.026    0.591       0.354                      0.118   \n",
              "4                    0.999    0.557       0.322                      0.298   \n",
              "\n",
              "   Year  \n",
              "0  2019  \n",
              "1  2019  \n",
              "2  2019  \n",
              "3  2019  \n",
              "4  2019  "
            ],
            "text/html": [
              "\n",
              "  <div id=\"df-d046d302-9e99-4c41-8797-912de46ac500\" class=\"colab-df-container\">\n",
              "    <div>\n",
              "<style scoped>\n",
              "    .dataframe tbody tr th:only-of-type {\n",
              "        vertical-align: middle;\n",
              "    }\n",
              "\n",
              "    .dataframe tbody tr th {\n",
              "        vertical-align: top;\n",
              "    }\n",
              "\n",
              "    .dataframe thead th {\n",
              "        text-align: right;\n",
              "    }\n",
              "</style>\n",
              "<table border=\"1\" class=\"dataframe\">\n",
              "  <thead>\n",
              "    <tr style=\"text-align: right;\">\n",
              "      <th></th>\n",
              "      <th>Overall Rank</th>\n",
              "      <th>Country</th>\n",
              "      <th>Score</th>\n",
              "      <th>GDP per capita</th>\n",
              "      <th>Family</th>\n",
              "      <th>Healthy life expectancy</th>\n",
              "      <th>Freedom</th>\n",
              "      <th>Generosity</th>\n",
              "      <th>Perceptions of corruption</th>\n",
              "      <th>Year</th>\n",
              "    </tr>\n",
              "  </thead>\n",
              "  <tbody>\n",
              "    <tr>\n",
              "      <th>0</th>\n",
              "      <td>1</td>\n",
              "      <td>Finland</td>\n",
              "      <td>7.769</td>\n",
              "      <td>1.340</td>\n",
              "      <td>1.587</td>\n",
              "      <td>0.986</td>\n",
              "      <td>0.596</td>\n",
              "      <td>0.153</td>\n",
              "      <td>0.393</td>\n",
              "      <td>2019</td>\n",
              "    </tr>\n",
              "    <tr>\n",
              "      <th>1</th>\n",
              "      <td>2</td>\n",
              "      <td>Denmark</td>\n",
              "      <td>7.600</td>\n",
              "      <td>1.383</td>\n",
              "      <td>1.573</td>\n",
              "      <td>0.996</td>\n",
              "      <td>0.592</td>\n",
              "      <td>0.252</td>\n",
              "      <td>0.410</td>\n",
              "      <td>2019</td>\n",
              "    </tr>\n",
              "    <tr>\n",
              "      <th>2</th>\n",
              "      <td>3</td>\n",
              "      <td>Norway</td>\n",
              "      <td>7.554</td>\n",
              "      <td>1.488</td>\n",
              "      <td>1.582</td>\n",
              "      <td>1.028</td>\n",
              "      <td>0.603</td>\n",
              "      <td>0.271</td>\n",
              "      <td>0.341</td>\n",
              "      <td>2019</td>\n",
              "    </tr>\n",
              "    <tr>\n",
              "      <th>3</th>\n",
              "      <td>4</td>\n",
              "      <td>Iceland</td>\n",
              "      <td>7.494</td>\n",
              "      <td>1.380</td>\n",
              "      <td>1.624</td>\n",
              "      <td>1.026</td>\n",
              "      <td>0.591</td>\n",
              "      <td>0.354</td>\n",
              "      <td>0.118</td>\n",
              "      <td>2019</td>\n",
              "    </tr>\n",
              "    <tr>\n",
              "      <th>4</th>\n",
              "      <td>5</td>\n",
              "      <td>Netherlands</td>\n",
              "      <td>7.488</td>\n",
              "      <td>1.396</td>\n",
              "      <td>1.522</td>\n",
              "      <td>0.999</td>\n",
              "      <td>0.557</td>\n",
              "      <td>0.322</td>\n",
              "      <td>0.298</td>\n",
              "      <td>2019</td>\n",
              "    </tr>\n",
              "  </tbody>\n",
              "</table>\n",
              "</div>\n",
              "    <div class=\"colab-df-buttons\">\n",
              "\n",
              "  <div class=\"colab-df-container\">\n",
              "    <button class=\"colab-df-convert\" onclick=\"convertToInteractive('df-d046d302-9e99-4c41-8797-912de46ac500')\"\n",
              "            title=\"Convert this dataframe to an interactive table.\"\n",
              "            style=\"display:none;\">\n",
              "\n",
              "  <svg xmlns=\"http://www.w3.org/2000/svg\" height=\"24px\" viewBox=\"0 -960 960 960\">\n",
              "    <path d=\"M120-120v-720h720v720H120Zm60-500h600v-160H180v160Zm220 220h160v-160H400v160Zm0 220h160v-160H400v160ZM180-400h160v-160H180v160Zm440 0h160v-160H620v160ZM180-180h160v-160H180v160Zm440 0h160v-160H620v160Z\"/>\n",
              "  </svg>\n",
              "    </button>\n",
              "\n",
              "  <style>\n",
              "    .colab-df-container {\n",
              "      display:flex;\n",
              "      gap: 12px;\n",
              "    }\n",
              "\n",
              "    .colab-df-convert {\n",
              "      background-color: #E8F0FE;\n",
              "      border: none;\n",
              "      border-radius: 50%;\n",
              "      cursor: pointer;\n",
              "      display: none;\n",
              "      fill: #1967D2;\n",
              "      height: 32px;\n",
              "      padding: 0 0 0 0;\n",
              "      width: 32px;\n",
              "    }\n",
              "\n",
              "    .colab-df-convert:hover {\n",
              "      background-color: #E2EBFA;\n",
              "      box-shadow: 0px 1px 2px rgba(60, 64, 67, 0.3), 0px 1px 3px 1px rgba(60, 64, 67, 0.15);\n",
              "      fill: #174EA6;\n",
              "    }\n",
              "\n",
              "    .colab-df-buttons div {\n",
              "      margin-bottom: 4px;\n",
              "    }\n",
              "\n",
              "    [theme=dark] .colab-df-convert {\n",
              "      background-color: #3B4455;\n",
              "      fill: #D2E3FC;\n",
              "    }\n",
              "\n",
              "    [theme=dark] .colab-df-convert:hover {\n",
              "      background-color: #434B5C;\n",
              "      box-shadow: 0px 1px 3px 1px rgba(0, 0, 0, 0.15);\n",
              "      filter: drop-shadow(0px 1px 2px rgba(0, 0, 0, 0.3));\n",
              "      fill: #FFFFFF;\n",
              "    }\n",
              "  </style>\n",
              "\n",
              "    <script>\n",
              "      const buttonEl =\n",
              "        document.querySelector('#df-d046d302-9e99-4c41-8797-912de46ac500 button.colab-df-convert');\n",
              "      buttonEl.style.display =\n",
              "        google.colab.kernel.accessAllowed ? 'block' : 'none';\n",
              "\n",
              "      async function convertToInteractive(key) {\n",
              "        const element = document.querySelector('#df-d046d302-9e99-4c41-8797-912de46ac500');\n",
              "        const dataTable =\n",
              "          await google.colab.kernel.invokeFunction('convertToInteractive',\n",
              "                                                    [key], {});\n",
              "        if (!dataTable) return;\n",
              "\n",
              "        const docLinkHtml = 'Like what you see? Visit the ' +\n",
              "          '<a target=\"_blank\" href=https://colab.research.google.com/notebooks/data_table.ipynb>data table notebook</a>'\n",
              "          + ' to learn more about interactive tables.';\n",
              "        element.innerHTML = '';\n",
              "        dataTable['output_type'] = 'display_data';\n",
              "        await google.colab.output.renderOutput(dataTable, element);\n",
              "        const docLink = document.createElement('div');\n",
              "        docLink.innerHTML = docLinkHtml;\n",
              "        element.appendChild(docLink);\n",
              "      }\n",
              "    </script>\n",
              "  </div>\n",
              "\n",
              "\n",
              "<div id=\"df-ab63947b-6245-4aa7-97b0-f03052ef3ae3\">\n",
              "  <button class=\"colab-df-quickchart\" onclick=\"quickchart('df-ab63947b-6245-4aa7-97b0-f03052ef3ae3')\"\n",
              "            title=\"Suggest charts\"\n",
              "            style=\"display:none;\">\n",
              "\n",
              "<svg xmlns=\"http://www.w3.org/2000/svg\" height=\"24px\"viewBox=\"0 0 24 24\"\n",
              "     width=\"24px\">\n",
              "    <g>\n",
              "        <path d=\"M19 3H5c-1.1 0-2 .9-2 2v14c0 1.1.9 2 2 2h14c1.1 0 2-.9 2-2V5c0-1.1-.9-2-2-2zM9 17H7v-7h2v7zm4 0h-2V7h2v10zm4 0h-2v-4h2v4z\"/>\n",
              "    </g>\n",
              "</svg>\n",
              "  </button>\n",
              "\n",
              "<style>\n",
              "  .colab-df-quickchart {\n",
              "      --bg-color: #E8F0FE;\n",
              "      --fill-color: #1967D2;\n",
              "      --hover-bg-color: #E2EBFA;\n",
              "      --hover-fill-color: #174EA6;\n",
              "      --disabled-fill-color: #AAA;\n",
              "      --disabled-bg-color: #DDD;\n",
              "  }\n",
              "\n",
              "  [theme=dark] .colab-df-quickchart {\n",
              "      --bg-color: #3B4455;\n",
              "      --fill-color: #D2E3FC;\n",
              "      --hover-bg-color: #434B5C;\n",
              "      --hover-fill-color: #FFFFFF;\n",
              "      --disabled-bg-color: #3B4455;\n",
              "      --disabled-fill-color: #666;\n",
              "  }\n",
              "\n",
              "  .colab-df-quickchart {\n",
              "    background-color: var(--bg-color);\n",
              "    border: none;\n",
              "    border-radius: 50%;\n",
              "    cursor: pointer;\n",
              "    display: none;\n",
              "    fill: var(--fill-color);\n",
              "    height: 32px;\n",
              "    padding: 0;\n",
              "    width: 32px;\n",
              "  }\n",
              "\n",
              "  .colab-df-quickchart:hover {\n",
              "    background-color: var(--hover-bg-color);\n",
              "    box-shadow: 0 1px 2px rgba(60, 64, 67, 0.3), 0 1px 3px 1px rgba(60, 64, 67, 0.15);\n",
              "    fill: var(--button-hover-fill-color);\n",
              "  }\n",
              "\n",
              "  .colab-df-quickchart-complete:disabled,\n",
              "  .colab-df-quickchart-complete:disabled:hover {\n",
              "    background-color: var(--disabled-bg-color);\n",
              "    fill: var(--disabled-fill-color);\n",
              "    box-shadow: none;\n",
              "  }\n",
              "\n",
              "  .colab-df-spinner {\n",
              "    border: 2px solid var(--fill-color);\n",
              "    border-color: transparent;\n",
              "    border-bottom-color: var(--fill-color);\n",
              "    animation:\n",
              "      spin 1s steps(1) infinite;\n",
              "  }\n",
              "\n",
              "  @keyframes spin {\n",
              "    0% {\n",
              "      border-color: transparent;\n",
              "      border-bottom-color: var(--fill-color);\n",
              "      border-left-color: var(--fill-color);\n",
              "    }\n",
              "    20% {\n",
              "      border-color: transparent;\n",
              "      border-left-color: var(--fill-color);\n",
              "      border-top-color: var(--fill-color);\n",
              "    }\n",
              "    30% {\n",
              "      border-color: transparent;\n",
              "      border-left-color: var(--fill-color);\n",
              "      border-top-color: var(--fill-color);\n",
              "      border-right-color: var(--fill-color);\n",
              "    }\n",
              "    40% {\n",
              "      border-color: transparent;\n",
              "      border-right-color: var(--fill-color);\n",
              "      border-top-color: var(--fill-color);\n",
              "    }\n",
              "    60% {\n",
              "      border-color: transparent;\n",
              "      border-right-color: var(--fill-color);\n",
              "    }\n",
              "    80% {\n",
              "      border-color: transparent;\n",
              "      border-right-color: var(--fill-color);\n",
              "      border-bottom-color: var(--fill-color);\n",
              "    }\n",
              "    90% {\n",
              "      border-color: transparent;\n",
              "      border-bottom-color: var(--fill-color);\n",
              "    }\n",
              "  }\n",
              "</style>\n",
              "\n",
              "  <script>\n",
              "    async function quickchart(key) {\n",
              "      const quickchartButtonEl =\n",
              "        document.querySelector('#' + key + ' button');\n",
              "      quickchartButtonEl.disabled = true;  // To prevent multiple clicks.\n",
              "      quickchartButtonEl.classList.add('colab-df-spinner');\n",
              "      try {\n",
              "        const charts = await google.colab.kernel.invokeFunction(\n",
              "            'suggestCharts', [key], {});\n",
              "      } catch (error) {\n",
              "        console.error('Error during call to suggestCharts:', error);\n",
              "      }\n",
              "      quickchartButtonEl.classList.remove('colab-df-spinner');\n",
              "      quickchartButtonEl.classList.add('colab-df-quickchart-complete');\n",
              "    }\n",
              "    (() => {\n",
              "      let quickchartButtonEl =\n",
              "        document.querySelector('#df-ab63947b-6245-4aa7-97b0-f03052ef3ae3 button');\n",
              "      quickchartButtonEl.style.display =\n",
              "        google.colab.kernel.accessAllowed ? 'block' : 'none';\n",
              "    })();\n",
              "  </script>\n",
              "</div>\n",
              "\n",
              "    </div>\n",
              "  </div>\n"
            ],
            "application/vnd.google.colaboratory.intrinsic+json": {
              "type": "dataframe",
              "summary": "{\n  \"name\": \"display(df_2019\",\n  \"rows\": 5,\n  \"fields\": [\n    {\n      \"column\": \"Overall Rank\",\n      \"properties\": {\n        \"dtype\": \"number\",\n        \"std\": 1,\n        \"min\": 1,\n        \"max\": 5,\n        \"num_unique_values\": 5,\n        \"samples\": [\n          2,\n          5,\n          3\n        ],\n        \"semantic_type\": \"\",\n        \"description\": \"\"\n      }\n    },\n    {\n      \"column\": \"Country\",\n      \"properties\": {\n        \"dtype\": \"string\",\n        \"num_unique_values\": 5,\n        \"samples\": [\n          \"Denmark\",\n          \"Netherlands\",\n          \"Norway\"\n        ],\n        \"semantic_type\": \"\",\n        \"description\": \"\"\n      }\n    },\n    {\n      \"column\": \"Score\",\n      \"properties\": {\n        \"dtype\": \"number\",\n        \"std\": 0.11473011810331234,\n        \"min\": 7.488,\n        \"max\": 7.769,\n        \"num_unique_values\": 5,\n        \"samples\": [\n          7.6,\n          7.488,\n          7.554\n        ],\n        \"semantic_type\": \"\",\n        \"description\": \"\"\n      }\n    },\n    {\n      \"column\": \"GDP per capita\",\n      \"properties\": {\n        \"dtype\": \"number\",\n        \"std\": 0.054806933867896666,\n        \"min\": 1.34,\n        \"max\": 1.488,\n        \"num_unique_values\": 5,\n        \"samples\": [\n          1.383,\n          1.396,\n          1.488\n        ],\n        \"semantic_type\": \"\",\n        \"description\": \"\"\n      }\n    },\n    {\n      \"column\": \"Family\",\n      \"properties\": {\n        \"dtype\": \"number\",\n        \"std\": 0.03665105728352188,\n        \"min\": 1.522,\n        \"max\": 1.624,\n        \"num_unique_values\": 5,\n        \"samples\": [\n          1.573,\n          1.522,\n          1.582\n        ],\n        \"semantic_type\": \"\",\n        \"description\": \"\"\n      }\n    },\n    {\n      \"column\": \"Healthy life expectancy\",\n      \"properties\": {\n        \"dtype\": \"number\",\n        \"std\": 0.0188944436276912,\n        \"min\": 0.986,\n        \"max\": 1.028,\n        \"num_unique_values\": 5,\n        \"samples\": [\n          0.996,\n          0.999,\n          1.028\n        ],\n        \"semantic_type\": \"\",\n        \"description\": \"\"\n      }\n    },\n    {\n      \"column\": \"Freedom\",\n      \"properties\": {\n        \"dtype\": \"number\",\n        \"std\": 0.017852170736355814,\n        \"min\": 0.557,\n        \"max\": 0.603,\n        \"num_unique_values\": 5,\n        \"samples\": [\n          0.592,\n          0.557,\n          0.603\n        ],\n        \"semantic_type\": \"\",\n        \"description\": \"\"\n      }\n    },\n    {\n      \"column\": \"Generosity\",\n      \"properties\": {\n        \"dtype\": \"number\",\n        \"std\": 0.07709280122034741,\n        \"min\": 0.153,\n        \"max\": 0.354,\n        \"num_unique_values\": 5,\n        \"samples\": [\n          0.252,\n          0.322,\n          0.271\n        ],\n        \"semantic_type\": \"\",\n        \"description\": \"\"\n      }\n    },\n    {\n      \"column\": \"Perceptions of corruption\",\n      \"properties\": {\n        \"dtype\": \"number\",\n        \"std\": 0.11708757406317719,\n        \"min\": 0.118,\n        \"max\": 0.41,\n        \"num_unique_values\": 5,\n        \"samples\": [\n          0.41,\n          0.298,\n          0.341\n        ],\n        \"semantic_type\": \"\",\n        \"description\": \"\"\n      }\n    },\n    {\n      \"column\": \"Year\",\n      \"properties\": {\n        \"dtype\": \"number\",\n        \"std\": 0,\n        \"min\": 2019,\n        \"max\": 2019,\n        \"num_unique_values\": 1,\n        \"samples\": [\n          2019\n        ],\n        \"semantic_type\": \"\",\n        \"description\": \"\"\n      }\n    }\n  ]\n}"
            }
          },
          "metadata": {}
        }
      ]
    },
    {
      "cell_type": "markdown",
      "source": [
        "**Examine the datasets individually and seperately and see if they have any missing values**"
      ],
      "metadata": {
        "id": "waamY0IYavo1"
      }
    },
    {
      "cell_type": "code",
      "source": [
        "print(df_2015.isna().sum().sum())\n",
        "print(df_2016.isna().sum().sum())\n",
        "print(df_2017.isna().sum().sum())\n",
        "print(df_2018.isna().sum().sum())\n",
        "print(df_2019.isna().sum().sum())"
      ],
      "metadata": {
        "colab": {
          "base_uri": "https://localhost:8080/"
        },
        "id": "JLszg7IM4v3M",
        "outputId": "ef9e4cf3-9e5d-4cf7-97d7-b3e68aa60b2a"
      },
      "execution_count": 120,
      "outputs": [
        {
          "output_type": "stream",
          "name": "stdout",
          "text": [
            "0\n",
            "0\n",
            "0\n",
            "1\n",
            "0\n"
          ]
        }
      ]
    },
    {
      "cell_type": "code",
      "source": [
        "df_2018.isna().sum()"
      ],
      "metadata": {
        "colab": {
          "base_uri": "https://localhost:8080/"
        },
        "id": "pcMhRuwa42a0",
        "outputId": "1af20fdc-cf0f-4e6e-edae-16308749ff31"
      },
      "execution_count": 121,
      "outputs": [
        {
          "output_type": "execute_result",
          "data": {
            "text/plain": [
              "Overall Rank                 0\n",
              "Country                      0\n",
              "Score                        0\n",
              "GDP per capita               0\n",
              "Family                       0\n",
              "Healthy life expectancy      0\n",
              "Freedom                      0\n",
              "Generosity                   0\n",
              "Perceptions of corruption    1\n",
              "Year                         0\n",
              "dtype: int64"
            ]
          },
          "metadata": {},
          "execution_count": 121
        }
      ]
    },
    {
      "cell_type": "markdown",
      "source": [
        "I see that data of the year 2018 has one missing value specifically in the column perceptions of corruption which is trust in government score, In order to fill it I will take the mean score of perceptions of corruption values in all the years for that specific country and then fill the missing value with this mean"
      ],
      "metadata": {
        "id": "DfrOeX9Eckcx"
      }
    },
    {
      "cell_type": "code",
      "source": [
        "# find and print rows where Perceptions of corruption is nan\n",
        "nan_perceptions_of_corruption = df_2018[df_2018['Perceptions of corruption'].isna()]\n",
        "print(nan_perceptions_of_corruption)"
      ],
      "metadata": {
        "colab": {
          "base_uri": "https://localhost:8080/"
        },
        "id": "WOfUuknxdWhr",
        "outputId": "b2510de5-533c-4ad8-dd4f-d9574c7199d7"
      },
      "execution_count": 122,
      "outputs": [
        {
          "output_type": "stream",
          "name": "stdout",
          "text": [
            "    Overall Rank               Country  Score  GDP per capita  Family  \\\n",
            "19            20  United Arab Emirates  6.774           2.096   0.776   \n",
            "\n",
            "    Healthy life expectancy  Freedom  Generosity  Perceptions of corruption  \\\n",
            "19                     0.67    0.284       0.186                        NaN   \n",
            "\n",
            "    Year  \n",
            "19  2018  \n"
          ]
        }
      ]
    },
    {
      "cell_type": "markdown",
      "source": [
        "the country is United Arab Emirates"
      ],
      "metadata": {
        "id": "AD6udk6fced4"
      }
    },
    {
      "cell_type": "code",
      "source": [
        "all_years_data = pd.concat([df_2015, df_2016, df_2017, df_2018, df_2019], ignore_index=True)\n",
        "\n",
        "# filter data only for United Arab Emirates and years other than 2018\n",
        "uae_data = all_years_data[(all_years_data['Country'] == 'United Arab Emirates') & (all_years_data['Year'] != 2018)]\n",
        "\n",
        "# mean of Perceptions of corruption for United Arab Emirates in these years\n",
        "mean_perception_of_corruption = uae_data['Perceptions of corruption'].mean()\n",
        "\n",
        "# fill the missing value in the 2018 data\n",
        "df_2018.loc[(df_2018['Country'] == 'United Arab Emirates') & (df_2018['Perceptions of corruption'].isna()), 'Perceptions of corruption'] = mean_perception_of_corruption"
      ],
      "metadata": {
        "id": "3jrV9Htyd71y"
      },
      "execution_count": 123,
      "outputs": []
    },
    {
      "cell_type": "code",
      "source": [
        "df_2018.isna().sum().sum()"
      ],
      "metadata": {
        "colab": {
          "base_uri": "https://localhost:8080/"
        },
        "id": "F4EhidkieFAb",
        "outputId": "52c0a714-602e-4e59-fa4e-6a79101629eb"
      },
      "execution_count": 124,
      "outputs": [
        {
          "output_type": "execute_result",
          "data": {
            "text/plain": [
              "0"
            ]
          },
          "metadata": {},
          "execution_count": 124
        }
      ]
    },
    {
      "cell_type": "markdown",
      "source": [
        "now, missing value got filled"
      ],
      "metadata": {
        "id": "UUWgFdF4KImn"
      }
    },
    {
      "cell_type": "markdown",
      "source": [
        "**combine all files**"
      ],
      "metadata": {
        "id": "fYNP9EDsihJS"
      }
    },
    {
      "cell_type": "code",
      "source": [
        "data = pd.concat([df_2015, df_2016, df_2017, df_2018, df_2019])\n",
        "data.shape"
      ],
      "metadata": {
        "colab": {
          "base_uri": "https://localhost:8080/"
        },
        "id": "3Gz_gra7Wre_",
        "outputId": "1c143787-62a7-4939-b3eb-9b44271022df"
      },
      "execution_count": 125,
      "outputs": [
        {
          "output_type": "execute_result",
          "data": {
            "text/plain": [
              "(782, 17)"
            ]
          },
          "metadata": {},
          "execution_count": 125
        }
      ]
    },
    {
      "cell_type": "markdown",
      "source": [
        "**Clean Data**"
      ],
      "metadata": {
        "id": "xpZxFzIE6ggi"
      }
    },
    {
      "cell_type": "markdown",
      "source": [
        "convert Score, which refers to the happiness score, column to a numeric data type to evaluate the assignment requirements later"
      ],
      "metadata": {
        "id": "9KsRx-6CKlme"
      }
    },
    {
      "cell_type": "code",
      "source": [
        "data['Score'] = pd.to_numeric(data['Score'], errors='coerce')"
      ],
      "metadata": {
        "id": "Y2HZmWNlKmAh"
      },
      "execution_count": 126,
      "outputs": []
    },
    {
      "cell_type": "markdown",
      "source": [
        "**Check for duplicated**"
      ],
      "metadata": {
        "id": "Ig_amhdYfrOK"
      }
    },
    {
      "cell_type": "code",
      "source": [
        "data.duplicated().sum()"
      ],
      "metadata": {
        "colab": {
          "base_uri": "https://localhost:8080/"
        },
        "id": "0H8biymOZ0W0",
        "outputId": "9b669191-282f-4ea9-cd51-60ec85b87ebb"
      },
      "execution_count": 127,
      "outputs": [
        {
          "output_type": "execute_result",
          "data": {
            "text/plain": [
              "0"
            ]
          },
          "metadata": {},
          "execution_count": 127
        }
      ]
    },
    {
      "cell_type": "markdown",
      "source": [
        "from the 0 printed output of using the duplicated().sum() methods, I can tell there is no duplicated data in the combined dataframe."
      ],
      "metadata": {
        "id": "Tng7aDADfz3f"
      }
    },
    {
      "cell_type": "markdown",
      "source": [
        "**Check for null/missing values**"
      ],
      "metadata": {
        "id": "a0YZ58iPf6X-"
      }
    },
    {
      "cell_type": "code",
      "source": [
        "data.isna().sum()"
      ],
      "metadata": {
        "colab": {
          "base_uri": "https://localhost:8080/"
        },
        "id": "AxgehfbMgUCm",
        "outputId": "be70c5db-83fd-4d58-ec56-3f71785d7b4a"
      },
      "execution_count": 128,
      "outputs": [
        {
          "output_type": "execute_result",
          "data": {
            "text/plain": [
              "Country                        0\n",
              "Region                       467\n",
              "Overall Rank                   0\n",
              "Score                          0\n",
              "Standard Error               624\n",
              "GDP per capita                 0\n",
              "Family                         0\n",
              "Healthy life expectancy        0\n",
              "Freedom                        0\n",
              "Perceptions of corruption      0\n",
              "Generosity                     0\n",
              "Dystopia Residual            312\n",
              "Year                           0\n",
              "Lower Confidence Interval    625\n",
              "Upper Confidence Interval    625\n",
              "Whisker.high                 627\n",
              "Whisker.low                  627\n",
              "dtype: int64"
            ]
          },
          "metadata": {},
          "execution_count": 128
        }
      ]
    },
    {
      "cell_type": "markdown",
      "source": [
        "**Handle missing values**"
      ],
      "metadata": {
        "id": "GeoNsI42hAhk"
      }
    },
    {
      "cell_type": "markdown",
      "source": [
        "I see that there is many nan values due to combining data files where there are some columns in some files that don't exist in the other files"
      ],
      "metadata": {
        "id": "FANZvkzxgX05"
      }
    },
    {
      "cell_type": "markdown",
      "source": [
        "1. As a start I will fill the missing Region values based on the country in the same row, this is by fetching it from other files rows with the same country and a non nan region value as following"
      ],
      "metadata": {
        "id": "FGS-7xP7gpBz"
      }
    },
    {
      "cell_type": "code",
      "source": [
        "#here there are some differences in the names of the same country so I will unify them across all files as following\n",
        "data['Country'] = data['Country'].replace('Trinidad & Tobago', 'Trinidad and Tobago')\n",
        "data['Country'] = data['Country'].replace('Northern Cyprus', 'North Cyprus')\n",
        "data['Country'] = data['Country'].replace('North Macedonia', 'Macedonia')\n",
        "\n",
        "# a dictionary to map countries to regions\n",
        "country_to_region = {}\n",
        "\n",
        "\n",
        "# then iterate through each row in the dataframe and fill mappings of the dictionary\n",
        "for index, row in data.iterrows():\n",
        "    country = row['Country']\n",
        "    region = row['Region']\n",
        "    # if region is not NaN it is added it to the dictionary\n",
        "    if pd.notnull(region):\n",
        "        country_to_region[country] = region\n",
        "\n",
        "# here I've had to manually add missing mappings for specific countries because these countries are not specified in other files but their regions exist\n",
        "country_to_region.update({\n",
        "    'Taiwan Province of China': 'Eastern Asia',\n",
        "    'Hong Kong S.A.R., China': 'Eastern Asia',\n",
        "    'Gambia':'West Africa'\n",
        "})\n",
        "\n",
        "# now I used this dictionary to fill missing values in the \"Region\" column\n",
        "data['Region'] = data.apply(\n",
        "    lambda row: country_to_region.get(row['Country'], row['Region']),\n",
        "    axis=1\n",
        ")\n",
        "\n",
        "# checking if there is still any region maissing values\n",
        "data.isna().sum()\n"
      ],
      "metadata": {
        "id": "haLtZ7FlW10m",
        "colab": {
          "base_uri": "https://localhost:8080/"
        },
        "outputId": "5be76c41-f927-4590-e589-1e519a84f345"
      },
      "execution_count": 129,
      "outputs": [
        {
          "output_type": "execute_result",
          "data": {
            "text/plain": [
              "Country                        0\n",
              "Region                         0\n",
              "Overall Rank                   0\n",
              "Score                          0\n",
              "Standard Error               624\n",
              "GDP per capita                 0\n",
              "Family                         0\n",
              "Healthy life expectancy        0\n",
              "Freedom                        0\n",
              "Perceptions of corruption      0\n",
              "Generosity                     0\n",
              "Dystopia Residual            312\n",
              "Year                           0\n",
              "Lower Confidence Interval    625\n",
              "Upper Confidence Interval    625\n",
              "Whisker.high                 627\n",
              "Whisker.low                  627\n",
              "dtype: int64"
            ]
          },
          "metadata": {},
          "execution_count": 129
        }
      ]
    },
    {
      "cell_type": "markdown",
      "source": [
        "the result shows there is no left missing values of regions"
      ],
      "metadata": {
        "id": "GeGG3daWiVgX"
      }
    },
    {
      "cell_type": "markdown",
      "source": [
        "2. In this step I will drop all of the columns that have most of its cells (more than 79 percent) empty, also these columns will not be used in the insights and plots of this assignment anyway"
      ],
      "metadata": {
        "id": "3XySCfjCiZns"
      }
    },
    {
      "cell_type": "code",
      "source": [
        "nan_percentage = data.isnull().sum() / len(data) * 100\n",
        "data.isnull().sum() / len(data) * 100"
      ],
      "metadata": {
        "colab": {
          "base_uri": "https://localhost:8080/"
        },
        "id": "IT_25LSx6hYi",
        "outputId": "e002ed7f-d326-4091-a69b-9d4951018a2a"
      },
      "execution_count": 130,
      "outputs": [
        {
          "output_type": "execute_result",
          "data": {
            "text/plain": [
              "Country                       0.000000\n",
              "Region                        0.000000\n",
              "Overall Rank                  0.000000\n",
              "Score                         0.000000\n",
              "Standard Error               79.795396\n",
              "GDP per capita                0.000000\n",
              "Family                        0.000000\n",
              "Healthy life expectancy       0.000000\n",
              "Freedom                       0.000000\n",
              "Perceptions of corruption     0.000000\n",
              "Generosity                    0.000000\n",
              "Dystopia Residual            39.897698\n",
              "Year                          0.000000\n",
              "Lower Confidence Interval    79.923274\n",
              "Upper Confidence Interval    79.923274\n",
              "Whisker.high                 80.179028\n",
              "Whisker.low                  80.179028\n",
              "dtype: float64"
            ]
          },
          "metadata": {},
          "execution_count": 130
        }
      ]
    },
    {
      "cell_type": "markdown",
      "source": [
        "these columns will be removed:\n",
        "\n",
        "Standard Error 79.795396, Lower Confidence Interval 79.923274, Upper Confidence Interval 79.923274, Whisker.high 80.179028, Whisker.low 80.179028."
      ],
      "metadata": {
        "id": "NYHHdWcyrYn-"
      }
    },
    {
      "cell_type": "code",
      "source": [
        "threshold = 79\n",
        "columns_to_drop = data.columns[data.isnull().sum() / len(data) * 100 > threshold]\n",
        "data.drop(columns=columns_to_drop, inplace=True)"
      ],
      "metadata": {
        "id": "XLn_hMz06cNK"
      },
      "execution_count": 131,
      "outputs": []
    },
    {
      "cell_type": "code",
      "source": [
        "data.isna().sum()"
      ],
      "metadata": {
        "colab": {
          "base_uri": "https://localhost:8080/"
        },
        "id": "_qwPTOOn8ue8",
        "outputId": "243c5b9b-06a8-4b7c-dbb6-900eac207266"
      },
      "execution_count": 132,
      "outputs": [
        {
          "output_type": "execute_result",
          "data": {
            "text/plain": [
              "Country                        0\n",
              "Region                         0\n",
              "Overall Rank                   0\n",
              "Score                          0\n",
              "GDP per capita                 0\n",
              "Family                         0\n",
              "Healthy life expectancy        0\n",
              "Freedom                        0\n",
              "Perceptions of corruption      0\n",
              "Generosity                     0\n",
              "Dystopia Residual            312\n",
              "Year                           0\n",
              "dtype: int64"
            ]
          },
          "metadata": {},
          "execution_count": 132
        }
      ]
    },
    {
      "cell_type": "markdown",
      "source": [
        "3. here I will fill the Dystopia Residual missing values using its mean value by region"
      ],
      "metadata": {
        "id": "U4b3MG7EjP3R"
      }
    },
    {
      "cell_type": "code",
      "source": [
        "dystopia_mean = data.groupby('Region')['Dystopia Residual'].mean()\n",
        "data['Dystopia Residual'] = data.apply(\n",
        "    lambda row: dystopia_mean[row['Region']] if pd.isnull(row['Dystopia Residual']) else row['Dystopia Residual'],\n",
        "    axis=1\n",
        ")"
      ],
      "metadata": {
        "id": "-wF0xl9Z4rty"
      },
      "execution_count": 133,
      "outputs": []
    },
    {
      "cell_type": "code",
      "source": [
        "# Print rows where 'Dystopia Residual' column is null\n",
        "print(data[data['Dystopia Residual'].isnull()])"
      ],
      "metadata": {
        "colab": {
          "base_uri": "https://localhost:8080/"
        },
        "id": "WzfyilMH6nhP",
        "outputId": "9b6d1e78-69ad-4d0e-8339-35675f761c9e"
      },
      "execution_count": 134,
      "outputs": [
        {
          "output_type": "stream",
          "name": "stdout",
          "text": [
            "    Country       Region  Overall Rank  Score  GDP per capita  Family  \\\n",
            "119  Gambia  West Africa           120  4.516           0.308   0.939   \n",
            "\n",
            "     Healthy life expectancy  Freedom  Perceptions of corruption  Generosity  \\\n",
            "119                    0.428    0.382                      0.167       0.269   \n",
            "\n",
            "     Dystopia Residual  Year  \n",
            "119                NaN  2019  \n"
          ]
        }
      ]
    },
    {
      "cell_type": "code",
      "source": [
        "data.isna().sum()"
      ],
      "metadata": {
        "colab": {
          "base_uri": "https://localhost:8080/"
        },
        "id": "HBe8fiIjkD4S",
        "outputId": "e3cda6c1-f93f-458e-a71a-bbdb4d77c9c3"
      },
      "execution_count": 135,
      "outputs": [
        {
          "output_type": "execute_result",
          "data": {
            "text/plain": [
              "Country                      0\n",
              "Region                       0\n",
              "Overall Rank                 0\n",
              "Score                        0\n",
              "GDP per capita               0\n",
              "Family                       0\n",
              "Healthy life expectancy      0\n",
              "Freedom                      0\n",
              "Perceptions of corruption    0\n",
              "Generosity                   0\n",
              "Dystopia Residual            1\n",
              "Year                         0\n",
              "dtype: int64"
            ]
          },
          "metadata": {},
          "execution_count": 135
        }
      ]
    },
    {
      "cell_type": "markdown",
      "source": [
        "The left Dystopia Residual missing value belongs to Gambia country in West Africa region, and it didn't get filled using the region mean because this country is the only country that exist in the region which I previously have mannually added.\n",
        "\n",
        "to handle it I will fill it using backforward method since I will not use this column in this assignment visualizations and analysis"
      ],
      "metadata": {
        "id": "-uIRu8dekOra"
      }
    },
    {
      "cell_type": "code",
      "source": [
        "data['Dystopia Residual'] = data['Dystopia Residual'].fillna(method='bfill')\n",
        "data.isna().sum()"
      ],
      "metadata": {
        "colab": {
          "base_uri": "https://localhost:8080/"
        },
        "id": "i9PjjQpxlF3R",
        "outputId": "5383df43-8099-49dd-e9a5-1d4adc6702d7"
      },
      "execution_count": 136,
      "outputs": [
        {
          "output_type": "execute_result",
          "data": {
            "text/plain": [
              "Country                      0\n",
              "Region                       0\n",
              "Overall Rank                 0\n",
              "Score                        0\n",
              "GDP per capita               0\n",
              "Family                       0\n",
              "Healthy life expectancy      0\n",
              "Freedom                      0\n",
              "Perceptions of corruption    0\n",
              "Generosity                   0\n",
              "Dystopia Residual            0\n",
              "Year                         0\n",
              "dtype: int64"
            ]
          },
          "metadata": {},
          "execution_count": 136
        }
      ]
    },
    {
      "cell_type": "markdown",
      "source": [
        "I see now there is no null values"
      ],
      "metadata": {
        "id": "XiYdzNXhkFlH"
      }
    },
    {
      "cell_type": "markdown",
      "source": [
        "**Data Types**"
      ],
      "metadata": {
        "id": "9Ss4CvpE4Vqr"
      }
    },
    {
      "cell_type": "code",
      "source": [
        "data.info()"
      ],
      "metadata": {
        "colab": {
          "base_uri": "https://localhost:8080/"
        },
        "id": "o5K9WcIz4WML",
        "outputId": "b8cfeb99-c200-4cc1-e4d5-c1ac107e4627"
      },
      "execution_count": 137,
      "outputs": [
        {
          "output_type": "stream",
          "name": "stdout",
          "text": [
            "<class 'pandas.core.frame.DataFrame'>\n",
            "Index: 782 entries, 0 to 155\n",
            "Data columns (total 12 columns):\n",
            " #   Column                     Non-Null Count  Dtype  \n",
            "---  ------                     --------------  -----  \n",
            " 0   Country                    782 non-null    object \n",
            " 1   Region                     782 non-null    object \n",
            " 2   Overall Rank               782 non-null    int64  \n",
            " 3   Score                      782 non-null    float64\n",
            " 4   GDP per capita             782 non-null    float64\n",
            " 5   Family                     782 non-null    float64\n",
            " 6   Healthy life expectancy    782 non-null    float64\n",
            " 7   Freedom                    782 non-null    float64\n",
            " 8   Perceptions of corruption  782 non-null    float64\n",
            " 9   Generosity                 782 non-null    float64\n",
            " 10  Dystopia Residual          782 non-null    float64\n",
            " 11  Year                       782 non-null    int64  \n",
            "dtypes: float64(8), int64(2), object(2)\n",
            "memory usage: 79.4+ KB\n"
          ]
        }
      ]
    },
    {
      "cell_type": "markdown",
      "source": [
        "Data types of columns, including score which is float, are compatible and correct hence ready for visualization to answer questions"
      ],
      "metadata": {
        "id": "aXo84LtC4cok"
      }
    },
    {
      "cell_type": "markdown",
      "source": [
        "## **Questions**"
      ],
      "metadata": {
        "id": "eOFJ_Pmw42Pa"
      }
    },
    {
      "cell_type": "markdown",
      "source": [
        "### 1. Which region have the highest happiness score, and which have the lowest?"
      ],
      "metadata": {
        "id": "R5roB4_bG2M7"
      }
    },
    {
      "cell_type": "markdown",
      "source": [
        "since regions are categorical data, I will use bargrapgh, where the y axis represents the happiness scores for each region (highest happiness score for each region for the first plot and lowest happiness score for each region for the the second plot)\n",
        "\n",
        "in other words, in each region I found and took minumun/maximun value and then do a plot where this value is on y axis and and region name is on x axis on the bar plot"
      ],
      "metadata": {
        "id": "5Z6HM0DVFJEq"
      }
    },
    {
      "cell_type": "code",
      "source": [
        "# here I find largest and smallest happiness scores\n",
        "largest_score = data.groupby('Region').apply(lambda x: x.nlargest(1, \"Score\")).reset_index(drop=True).sort_values(by=['Score'], ascending=False)\n",
        "lowest_score = data.groupby('Region').apply(lambda x: x.nsmallest(1, \"Score\")).reset_index(drop=True).sort_values(by=['Score'], ascending=True)\n",
        "\n",
        "# melting the data\n",
        "largest_score = pd.melt(largest_score, id_vars=['Region'], value_vars=['Score'])\n",
        "lowest_score = pd.melt(lowest_score, id_vars=['Region'], value_vars=['Score'])\n",
        "\n",
        "# reset index\n",
        "largest_score = largest_score.reset_index()\n",
        "lowest_score = lowest_score.reset_index()\n",
        "\n",
        "\n",
        "plt.figure(figsize=(10, 6))\n",
        "\n",
        "# region with highest happiness scores plot\n",
        "plt.subplot(1, 2, 1)\n",
        "sns.barplot(x='Region', y='value', data=largest_score, palette='mako')\n",
        "plt.title(\"Highest happiness score of each region\")\n",
        "plt.xlabel('Region')\n",
        "plt.ylabel('Happiness Score')\n",
        "plt.xticks(rotation=90)\n",
        "plt.ylim(0, 12)\n",
        "plt.tight_layout()\n",
        "\n",
        "# region with lowest happiness scores plot\n",
        "plt.subplot(1, 2, 2)\n",
        "sns.barplot(x='Region', y='value', data=lowest_score, palette='magma')\n",
        "plt.title(\"Lowest happiness score of each region\")\n",
        "plt.xlabel('Region')\n",
        "plt.ylabel('Happiness Score')\n",
        "plt.xticks(rotation=90)\n",
        "plt.ylim(0, 12)\n",
        "plt.tight_layout()\n",
        "\n",
        "plt.show()"
      ],
      "metadata": {
        "colab": {
          "base_uri": "https://localhost:8080/",
          "height": 781
        },
        "id": "Pv-oOjR6fdhb",
        "outputId": "95339e28-21a8-482e-98d4-06b7a3d07144"
      },
      "execution_count": 138,
      "outputs": [
        {
          "output_type": "stream",
          "name": "stderr",
          "text": [
            "<ipython-input-138-fbf2ddfe256e>:18: FutureWarning: \n",
            "\n",
            "Passing `palette` without assigning `hue` is deprecated and will be removed in v0.14.0. Assign the `x` variable to `hue` and set `legend=False` for the same effect.\n",
            "\n",
            "  sns.barplot(x='Region', y='value', data=largest_score, palette='mako')\n",
            "<ipython-input-138-fbf2ddfe256e>:28: FutureWarning: \n",
            "\n",
            "Passing `palette` without assigning `hue` is deprecated and will be removed in v0.14.0. Assign the `x` variable to `hue` and set `legend=False` for the same effect.\n",
            "\n",
            "  sns.barplot(x='Region', y='value', data=lowest_score, palette='magma')\n"
          ]
        },
        {
          "output_type": "display_data",
          "data": {
            "text/plain": [
              "<Figure size 1000x600 with 2 Axes>"
            ],
            "image/png": "[encoded data removed]"
          },
          "metadata": {}
        }
      ]
    },
    {
      "cell_type": "markdown",
      "source": [
        "the first plot shows the region Western Europe has the happiest country which has highest happiness Score and second plot has the region Sub-Saharan Africa that has the least happiest country"
      ],
      "metadata": {
        "id": "6kx6tI32vmkj"
      }
    },
    {
      "cell_type": "code",
      "source": [
        "# max and min scores among all scores/countries/entries\n",
        "max_score_region= data.loc[data['Score'].idxmax()].iloc[0]['Region']\n",
        "min_score_region = data.loc[data['Score'].idxmin()].iloc[0]['Region']\n",
        "\n",
        "max_score = data['Score'].max()\n",
        "min_score = data['Score'].min()\n",
        "\n",
        "print(f\"Region with the maximum score: {max_score_region}, Score: {max_score}\")\n",
        "print(f\"Region with the minimum score: {min_score_region}, Score: {min_score}\")"
      ],
      "metadata": {
        "colab": {
          "base_uri": "https://localhost:8080/"
        },
        "id": "UWPJyEXksmE4",
        "outputId": "bdce7e2a-4f9e-4383-9923-eca8fed0141f"
      },
      "execution_count": 139,
      "outputs": [
        {
          "output_type": "stream",
          "name": "stdout",
          "text": [
            "Region with the maximum score: Western Europe, Score: 7.769\n",
            "Region with the minimum score: Sub-Saharan Africa, Score: 2.69300007820129\n"
          ]
        }
      ]
    },
    {
      "cell_type": "markdown",
      "source": [
        "my result is correct and that Western Europe has highest happiness Score of 7.769 and Sub-Saharan Africa has lowest happiness Score of 2.69300007820129"
      ],
      "metadata": {
        "id": "lHC_HtkGvR5-"
      }
    },
    {
      "cell_type": "markdown",
      "source": [
        "### 2. Which regions have countries with extreme (outliers) happiness scores? Find the regions and the countries"
      ],
      "metadata": {
        "id": "RY9W91bgHIUO"
      }
    },
    {
      "cell_type": "markdown",
      "source": [
        "using boxplot since it is the best visualization method for detecting outliers:"
      ],
      "metadata": {
        "id": "aWcD7dzTHSHP"
      }
    },
    {
      "cell_type": "code",
      "source": [
        "def outliers(data, region, plot):\n",
        "    q1 = data[data['Region'] == region]['Score'].quantile(0.25)\n",
        "    q3 = data[data['Region'] == region]['Score'].quantile(0.75)\n",
        "    iqr = q3 - q1\n",
        "    lower_bound = q1 - 1.5 * iqr\n",
        "    upper_bound = q3 + 1.5 * iqr\n",
        "    outliers = data[(data['Region'] == region) & ((data['Score'] < lower_bound) | (data['Score'] > upper_bound))]\n",
        "    for i, outlier in outliers.iterrows():\n",
        "        plot.annotate(outlier['Country'], (region, outlier['Score']), textcoords=\"offset points\", ha='center', fontsize=7, color='blue')\n",
        "\n",
        "\n",
        "plt.figure(figsize=(10, 6))\n",
        "plot = sns.boxplot(data=data, x = 'Region', y='Score', palette='mako')\n",
        "plt.xticks(rotation=90)\n",
        "plt.title('Happiness Scores Outliers by Regions')\n",
        "\n",
        "# for anotaitng outliers with country names:\n",
        "for region in data['Region'].unique():\n",
        "    outliers(data, region, plot)\n",
        "\n",
        "\n",
        "plt.show()"
      ],
      "metadata": {
        "colab": {
          "base_uri": "https://localhost:8080/",
          "height": 997
        },
        "id": "A8W9BEdMH6Or",
        "outputId": "b45b060e-302e-4dd7-afb7-0a6de4ad1312"
      },
      "execution_count": 140,
      "outputs": [
        {
          "output_type": "stream",
          "name": "stderr",
          "text": [
            "<ipython-input-140-fe1870b59fa0>:13: FutureWarning: \n",
            "\n",
            "Passing `palette` without assigning `hue` is deprecated and will be removed in v0.14.0. Assign the `x` variable to `hue` and set `legend=False` for the same effect.\n",
            "\n",
            "  plot = sns.boxplot(data=data, x = 'Region', y='Score', palette='mako')\n",
            "<ipython-input-140-fe1870b59fa0>:9: UserWarning: You have used the `textcoords` kwarg, but not the `xytext` kwarg.  This can lead to surprising results.\n",
            "  plot.annotate(outlier['Country'], (region, outlier['Score']), textcoords=\"offset points\", ha='center', fontsize=7, color='blue')\n",
            "<ipython-input-140-fe1870b59fa0>:9: UserWarning: You have used the `textcoords` kwarg, but not the `xytext` kwarg.  This can lead to surprising results.\n",
            "  plot.annotate(outlier['Country'], (region, outlier['Score']), textcoords=\"offset points\", ha='center', fontsize=7, color='blue')\n",
            "<ipython-input-140-fe1870b59fa0>:9: UserWarning: You have used the `textcoords` kwarg, but not the `xytext` kwarg.  This can lead to surprising results.\n",
            "  plot.annotate(outlier['Country'], (region, outlier['Score']), textcoords=\"offset points\", ha='center', fontsize=7, color='blue')\n",
            "<ipython-input-140-fe1870b59fa0>:9: UserWarning: You have used the `textcoords` kwarg, but not the `xytext` kwarg.  This can lead to surprising results.\n",
            "  plot.annotate(outlier['Country'], (region, outlier['Score']), textcoords=\"offset points\", ha='center', fontsize=7, color='blue')\n"
          ]
        },
        {
          "output_type": "display_data",
          "data": {
            "text/plain": [
              "<Figure size 1000x600 with 1 Axes>"
            ],
            "image/png": "[encoded data removed]"
          },
          "metadata": {}
        }
      ]
    },
    {
      "cell_type": "markdown",
      "source": [
        "I see from the plot that\n",
        "\n",
        "*   'Australia and New Zealand' has one outlier which is Australia\n",
        "*   'Latin America and Caribbean' has more than 4 outliers all represent Haiti\n",
        "*   'Sub-Saharan Africa' has more than one outlier which represent Mauritius\n",
        "*   'Southern Asia' has one outlier which is Afghanistan"
      ],
      "metadata": {
        "id": "v0AIeamX0Pr1"
      }
    },
    {
      "cell_type": "markdown",
      "source": [
        "### 3. Show how the global happiness score change over time"
      ],
      "metadata": {
        "id": "MSGegncXHh6C"
      }
    },
    {
      "cell_type": "markdown",
      "source": [
        "Here I used the line time-series plot where x axis represents year and change of year over time, and the y axis represents the average of global happiness score"
      ],
      "metadata": {
        "id": "3t8GakjX5Bfu"
      }
    },
    {
      "cell_type": "code",
      "source": [
        "# plot\n",
        "plt.figure(figsize=(10, 5))\n",
        "# here I grouped data based on year and found the mean of happiness scores over the years\n",
        "plt.plot(data.groupby('Year')['Score'].mean().index, data.groupby('Year')['Score'].mean().values, marker='o', linestyle = 'dotted')\n",
        "plt.title('Global Happiness Score Over Time')\n",
        "plt.xlabel('Year')\n",
        "plt.ylabel('Mean Scores')\n",
        "plt.grid(True)\n",
        "# x-axis parameters and divisions based on the years\n",
        "plt.xticks([2015, 2016, 2017, 2018, 2019])\n",
        "plt.show()\n"
      ],
      "metadata": {
        "colab": {
          "base_uri": "https://localhost:8080/",
          "height": 487
        },
        "id": "FG-L48nz_EL5",
        "outputId": "0d863bc5-38aa-49a3-d939-e8eff8907000"
      },
      "execution_count": 141,
      "outputs": [
        {
          "output_type": "display_data",
          "data": {
            "text/plain": [
              "<Figure size 1000x500 with 1 Axes>"
            ],
            "image/png": "[encoded data removed]"
          },
          "metadata": {}
        }
      ]
    },
    {
      "cell_type": "markdown",
      "source": [
        "With the averge global data scores displayed in this fashion, and the positive overall score movement over time, the following can be observed:\n",
        "\n",
        "The overall global happiness score has been growing over these years.\n",
        "\n",
        "The global happpiness score raises in the interval 2015 to 2016.\n",
        "\n",
        "The global happpiness score declines and dips from 2016 to 2017.\n",
        "\n",
        "The The global happpiness increases in the interval 2017 to 2018 and 2018 to  2019 in a larger rate."
      ],
      "metadata": {
        "id": "490A-ZG3qNlR"
      }
    },
    {
      "cell_type": "markdown",
      "source": [
        "### 4. How does the Happiness score change by Region?"
      ],
      "metadata": {
        "id": "fSCTYyJvHvhv"
      }
    },
    {
      "cell_type": "markdown",
      "source": [
        "Here, this can be done on two ways, the first is using heatmap, and the second by using a bar plot"
      ],
      "metadata": {
        "id": "2JrZWTkwOrg1"
      }
    },
    {
      "cell_type": "markdown",
      "source": [
        "let's start with the heatmap at first"
      ],
      "metadata": {
        "id": "cHMzaBWmPBFf"
      }
    },
    {
      "cell_type": "code",
      "source": [
        "# heatmap plot\n",
        "plt.figure(figsize=(5, 4))\n",
        "# here I grouped data based on region found the mean of happiness scores over the years\n",
        "sns.heatmap(data.groupby('Region')['Score'].mean().to_frame(), annot=True, cmap='mako')\n",
        "plt.title('Average Happiness Score by Region')"
      ],
      "metadata": {
        "colab": {
          "base_uri": "https://localhost:8080/",
          "height": 408
        },
        "id": "dMm-5REXMXD0",
        "outputId": "4aa81306-7df2-4e0f-ed8f-ad6ea5dd623f"
      },
      "execution_count": 142,
      "outputs": [
        {
          "output_type": "execute_result",
          "data": {
            "text/plain": [
              "Text(0.5, 1.0, 'Average Happiness Score by Region')"
            ]
          },
          "metadata": {},
          "execution_count": 142
        },
        {
          "output_type": "display_data",
          "data": {
            "text/plain": [
              "<Figure size 500x400 with 2 Axes>"
            ],
            "image/png": "[encoded data removed]"
          },
          "metadata": {}
        }
      ]
    },
    {
      "cell_type": "code",
      "source": [
        "# here I grouped data based on region and year as well and found the mean of happiness scores over the years to print this exact score of each year and region and display it on map\n",
        "region_year_score = data.groupby(['Region', 'Year'])['Score'].mean().unstack()\n",
        "#  heatmap plot\n",
        "plt.figure(figsize=(10, 5))\n",
        "sns.heatmap(region_year_score, annot=True, fmt=\".3f\", cmap='mako')\n",
        "plt.xlabel('Year')\n",
        "plt.ylabel('Region')\n",
        "plt.title('Average Happiness Score by Region and Year')\n",
        "plt.tight_layout()\n",
        "plt.show()"
      ],
      "metadata": {
        "colab": {
          "base_uri": "https://localhost:8080/",
          "height": 507
        },
        "id": "gjX1luh2z0H0",
        "outputId": "3e502819-7d42-4eec-93b0-9e232b0e0441"
      },
      "execution_count": 143,
      "outputs": [
        {
          "output_type": "display_data",
          "data": {
            "text/plain": [
              "<Figure size 1000x500 with 2 Axes>"
            ],
            "image/png": "[encoded data removed]"
          },
          "metadata": {}
        }
      ]
    },
    {
      "cell_type": "markdown",
      "source": [
        "the two heatmaps show that Australia and New Zealand region average happiness scores are the highest among all other regions during all years, meaning that they're the happiest. and Sub-Saharan Africa region has the lowest average scores during all these years."
      ],
      "metadata": {
        "id": "GyLhYrXIGK8U"
      }
    },
    {
      "cell_type": "markdown",
      "source": [
        "I also used the bar plot as following"
      ],
      "metadata": {
        "id": "T29ICIUtPIqt"
      }
    },
    {
      "cell_type": "code",
      "source": [
        "# special kind of bar plot for clustering years as well\n",
        "#grouping data based on region\n",
        "scores_pivot_table = data.pivot_table(index='Region', columns='Year', values='Score')\n",
        "# bar plot\n",
        "scores_pivot_table.plot(width=0.5, kind='bar')\n",
        "plt.title('Happiness Score by Region')\n",
        "plt.xlabel('Region')\n",
        "plt.ylabel('Score')\n",
        "plt.legend(title='Year')\n",
        "plt.tight_layout()\n",
        "plt.show()"
      ],
      "metadata": {
        "colab": {
          "base_uri": "https://localhost:8080/",
          "height": 487
        },
        "id": "Hwk46LrKPbjO",
        "outputId": "b0bd65a7-b385-42ed-a97c-4d8011b6fd9c"
      },
      "execution_count": 144,
      "outputs": [
        {
          "output_type": "display_data",
          "data": {
            "text/plain": [
              "<Figure size 640x480 with 1 Axes>"
            ],
            "image/png": "[encoded data removed]"
          },
          "metadata": {}
        }
      ]
    },
    {
      "cell_type": "markdown",
      "source": [
        "this bar plot shows that the region Australia and New Zealand has the highest average happiness score meaning they are the happiest, and that the region sub-sharan africa has the lowest meaning they are the least happy people."
      ],
      "metadata": {
        "id": "EULCqX78y5nf"
      }
    },
    {
      "cell_type": "markdown",
      "source": [
        "### 5. Based on the data and your intuition, how do you expect the global happiness score in the following 2 years?"
      ],
      "metadata": {
        "id": "CHbwNpIiH9HW"
      }
    },
    {
      "cell_type": "markdown",
      "source": [
        "by observing the trends and changes of global happiness score in the time plot I visualized and plottd previously, I noticed there was a pattern where the happiness score would increase each 2 years, even if it slightly decreased in one year but the overall trends in the time-series line indicate that average global happiness scores increases and in a continous positive growth and change.\n",
        "\n",
        "based on data and insights, in the future interval, in respect to the years of data set, 2020 to 2021 and 2021 to 2022 I expect it to slightly increase, Meaning that it would be approximately between 5 and 5.7 or close to 5.5 specifically."
      ],
      "metadata": {
        "id": "p0hZPCa6sgqD"
      }
    },
    {
      "cell_type": "markdown",
      "source": [
        "also I think it will increase in happy countries and as for countries with less happiness scores will also increase but in a lower rate because I noticed a pattern where all countries and regions either lower or higher their happiness scores at the same time even if there is a gap with the value of happiness score itself but all countries increase or decrease together which is rational due to global changes and events that affect them all."
      ],
      "metadata": {
        "id": "smFZYh8ERmLs"
      }
    },
    {
      "cell_type": "markdown",
      "source": [
        "my predictions are purely statistical and statistics dependant, and are true unless no external or unexpected conditions or events happens like COVID-19 that we already witnessed and of course had direct and indirect major impacts on people's happiness."
      ],
      "metadata": {
        "id": "IXMTHO51x46f"
      }
    },
    {
      "cell_type": "markdown",
      "source": [
        "to have a more precise prediction, I can use the rate of change or slope of the points and decide based on its direction and behavior, as well as the distance between the line and the points to know how reliable it can be."
      ],
      "metadata": {
        "id": "mcUx5vXyvgs-"
      }
    }
  ]
}